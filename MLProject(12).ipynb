{
 "cells": [
  {
   "cell_type": "code",
   "execution_count": 1,
   "id": "bba1112e-9e0a-4a4a-a400-99d9779d6a13",
   "metadata": {},
   "outputs": [],
   "source": [
    "#A&D tech final project"
   ]
  },
  {
   "cell_type": "code",
   "execution_count": 2,
   "id": "06f763c9-1db5-4f9e-b5ee-43e6654a28ec",
   "metadata": {},
   "outputs": [],
   "source": [
    "#import necessary libraries\n",
    "#pandas for dataset management\n",
    "import pandas as pd\n",
    "#matplotlib and seaborn for plots\n",
    "import seaborn as sns\n",
    "import matplotlib.pyplot as plt\n",
    "%matplotlib inline\n",
    "#import tensorflow for neural network training\n",
    "import tensorflow as tf\n",
    "import tensorflow_datasets as tfds\n",
    "from tensorflow.keras.models import load_model\n",
    "from tensorflow.keras.utils import to_categorical\n",
    "from tensorflow.keras.layers import Dense, Dropout\n",
    "from tensorflow.keras import layers, models, Sequential\n",
    "from tensorflow.keras.callbacks import ModelCheckpoint, EarlyStopping\n",
    "#Sklearn for model evaluation\n",
    "from sklearn.metrics import confusion_matrix, classification_report, ConfusionMatrixDisplay, accuracy_score, roc_curve, auc\n",
    "from sklearn.ensemble import GradientBoostingClassifier, RandomForestClassifier\n",
    "from sklearn.preprocessing import LabelEncoder, StandardScaler\n",
    "from sklearn.model_selection import train_test_split\n",
    "from sklearn.linear_model import LogisticRegression\n",
    "#numpy\n",
    "import numpy as np\n",
    "#to save the model\n",
    "import joblib"
   ]
  },
  {
   "cell_type": "code",
   "execution_count": 3,
   "id": "5915ae6a-2b90-49d8-ba1c-bbed1d96f720",
   "metadata": {},
   "outputs": [],
   "source": [
    "#reading the .csv dataset and assigning a dataframe\n",
    "telco = pd.read_csv(\"Datasets/Kaggle/Telco Customer Churn/archive(1)/WA_Fn-UseC_-Telco-Customer-Churn.csv\")"
   ]
  },
  {
   "cell_type": "code",
   "execution_count": 4,
   "id": "1f293129-fe93-43fb-8148-37aae93c9c78",
   "metadata": {},
   "outputs": [
    {
     "name": "stdout",
     "output_type": "stream",
     "text": [
      "0\n"
     ]
    }
   ],
   "source": [
    "#no of dupes\n",
    "print(telco.duplicated().sum())"
   ]
  },
  {
   "cell_type": "code",
   "execution_count": 5,
   "id": "52937583-83c0-457b-a868-9ce152b566cb",
   "metadata": {},
   "outputs": [],
   "source": [
    "#no duplicates"
   ]
  },
  {
   "cell_type": "code",
   "execution_count": 6,
   "id": "a24d6d05-7be4-47cc-8901-cb45b5d9429e",
   "metadata": {},
   "outputs": [],
   "source": [
    "#data inspection"
   ]
  },
  {
   "cell_type": "code",
   "execution_count": 7,
   "id": "a5204eeb-26c2-4fbd-9e6b-34d3740820ad",
   "metadata": {},
   "outputs": [
    {
     "name": "stdout",
     "output_type": "stream",
     "text": [
      "      customerID  gender  SeniorCitizen Partner Dependents  tenure  \\\n",
      "0     7590-VHVEG  Female              0     Yes         No       1   \n",
      "1     5575-GNVDE    Male              0      No         No      34   \n",
      "2     3668-QPYBK    Male              0      No         No       2   \n",
      "3     7795-CFOCW    Male              0      No         No      45   \n",
      "4     9237-HQITU  Female              0      No         No       2   \n",
      "...          ...     ...            ...     ...        ...     ...   \n",
      "7038  6840-RESVB    Male              0     Yes        Yes      24   \n",
      "7039  2234-XADUH  Female              0     Yes        Yes      72   \n",
      "7040  4801-JZAZL  Female              0     Yes        Yes      11   \n",
      "7041  8361-LTMKD    Male              1     Yes         No       4   \n",
      "7042  3186-AJIEK    Male              0      No         No      66   \n",
      "\n",
      "     PhoneService     MultipleLines InternetService OnlineSecurity  ...  \\\n",
      "0              No  No phone service             DSL             No  ...   \n",
      "1             Yes                No             DSL            Yes  ...   \n",
      "2             Yes                No             DSL            Yes  ...   \n",
      "3              No  No phone service             DSL            Yes  ...   \n",
      "4             Yes                No     Fiber optic             No  ...   \n",
      "...           ...               ...             ...            ...  ...   \n",
      "7038          Yes               Yes             DSL            Yes  ...   \n",
      "7039          Yes               Yes     Fiber optic             No  ...   \n",
      "7040           No  No phone service             DSL            Yes  ...   \n",
      "7041          Yes               Yes     Fiber optic             No  ...   \n",
      "7042          Yes                No     Fiber optic            Yes  ...   \n",
      "\n",
      "     DeviceProtection TechSupport StreamingTV StreamingMovies        Contract  \\\n",
      "0                  No          No          No              No  Month-to-month   \n",
      "1                 Yes          No          No              No        One year   \n",
      "2                  No          No          No              No  Month-to-month   \n",
      "3                 Yes         Yes          No              No        One year   \n",
      "4                  No          No          No              No  Month-to-month   \n",
      "...               ...         ...         ...             ...             ...   \n",
      "7038              Yes         Yes         Yes             Yes        One year   \n",
      "7039              Yes          No         Yes             Yes        One year   \n",
      "7040               No          No          No              No  Month-to-month   \n",
      "7041               No          No          No              No  Month-to-month   \n",
      "7042              Yes         Yes         Yes             Yes        Two year   \n",
      "\n",
      "     PaperlessBilling              PaymentMethod MonthlyCharges  TotalCharges  \\\n",
      "0                 Yes           Electronic check          29.85         29.85   \n",
      "1                  No               Mailed check          56.95        1889.5   \n",
      "2                 Yes               Mailed check          53.85        108.15   \n",
      "3                  No  Bank transfer (automatic)          42.30       1840.75   \n",
      "4                 Yes           Electronic check          70.70        151.65   \n",
      "...               ...                        ...            ...           ...   \n",
      "7038              Yes               Mailed check          84.80        1990.5   \n",
      "7039              Yes    Credit card (automatic)         103.20        7362.9   \n",
      "7040              Yes           Electronic check          29.60        346.45   \n",
      "7041              Yes               Mailed check          74.40         306.6   \n",
      "7042              Yes  Bank transfer (automatic)         105.65        6844.5   \n",
      "\n",
      "     Churn  \n",
      "0       No  \n",
      "1       No  \n",
      "2      Yes  \n",
      "3       No  \n",
      "4      Yes  \n",
      "...    ...  \n",
      "7038    No  \n",
      "7039    No  \n",
      "7040    No  \n",
      "7041   Yes  \n",
      "7042    No  \n",
      "\n",
      "[7043 rows x 21 columns]\n"
     ]
    }
   ],
   "source": [
    "#viewing the first and last 5 rows\n",
    "print(telco)"
   ]
  },
  {
   "cell_type": "code",
   "execution_count": 8,
   "id": "49e41852-1cc2-43c9-a6c6-4cb27d0f82a8",
   "metadata": {},
   "outputs": [
    {
     "name": "stdout",
     "output_type": "stream",
     "text": [
      "<class 'pandas.core.frame.DataFrame'>\n",
      "RangeIndex: 7043 entries, 0 to 7042\n",
      "Data columns (total 21 columns):\n",
      " #   Column            Non-Null Count  Dtype  \n",
      "---  ------            --------------  -----  \n",
      " 0   customerID        7043 non-null   object \n",
      " 1   gender            7043 non-null   object \n",
      " 2   SeniorCitizen     7043 non-null   int64  \n",
      " 3   Partner           7043 non-null   object \n",
      " 4   Dependents        7043 non-null   object \n",
      " 5   tenure            7043 non-null   int64  \n",
      " 6   PhoneService      7043 non-null   object \n",
      " 7   MultipleLines     7043 non-null   object \n",
      " 8   InternetService   7043 non-null   object \n",
      " 9   OnlineSecurity    7043 non-null   object \n",
      " 10  OnlineBackup      7043 non-null   object \n",
      " 11  DeviceProtection  7043 non-null   object \n",
      " 12  TechSupport       7043 non-null   object \n",
      " 13  StreamingTV       7043 non-null   object \n",
      " 14  StreamingMovies   7043 non-null   object \n",
      " 15  Contract          7043 non-null   object \n",
      " 16  PaperlessBilling  7043 non-null   object \n",
      " 17  PaymentMethod     7043 non-null   object \n",
      " 18  MonthlyCharges    7043 non-null   float64\n",
      " 19  TotalCharges      7043 non-null   object \n",
      " 20  Churn             7043 non-null   object \n",
      "dtypes: float64(1), int64(2), object(18)\n",
      "memory usage: 1.1+ MB\n",
      "None\n"
     ]
    }
   ],
   "source": [
    "#dataframe info\n",
    "print(telco.info())"
   ]
  },
  {
   "cell_type": "code",
   "execution_count": 9,
   "id": "0ce24450-e977-4e16-a141-7a4aecbed96a",
   "metadata": {},
   "outputs": [],
   "source": [
    "#there are no apparent null entries here"
   ]
  },
  {
   "cell_type": "code",
   "execution_count": 10,
   "id": "ebf980d3-ad6f-4f49-8569-50eb9e91708b",
   "metadata": {},
   "outputs": [
    {
     "name": "stdout",
     "output_type": "stream",
     "text": [
      "       SeniorCitizen       tenure  MonthlyCharges\n",
      "count    7043.000000  7043.000000     7043.000000\n",
      "mean        0.162147    32.371149       64.761692\n",
      "std         0.368612    24.559481       30.090047\n",
      "min         0.000000     0.000000       18.250000\n",
      "25%         0.000000     9.000000       35.500000\n",
      "50%         0.000000    29.000000       70.350000\n",
      "75%         0.000000    55.000000       89.850000\n",
      "max         1.000000    72.000000      118.750000\n"
     ]
    }
   ],
   "source": [
    "#viewing the dataset description\n",
    "print(telco.describe())"
   ]
  },
  {
   "cell_type": "code",
   "execution_count": 11,
   "id": "6bd92f60-969e-4402-bec0-7b636fd6ea55",
   "metadata": {},
   "outputs": [],
   "source": [
    "#there are many non-numerical/categorical columns, we have to convert them to numerical format"
   ]
  },
  {
   "cell_type": "code",
   "execution_count": 12,
   "id": "b9f14112-d57d-4490-805b-5ff3a7b42a6f",
   "metadata": {},
   "outputs": [],
   "source": [
    "#checking value counts to analyze the category classes"
   ]
  },
  {
   "cell_type": "code",
   "execution_count": 13,
   "id": "f664f465-1431-492a-81e9-8b51af790a7d",
   "metadata": {},
   "outputs": [
    {
     "name": "stdout",
     "output_type": "stream",
     "text": [
      "customerID\n",
      "7590-VHVEG    1\n",
      "3791-LGQCY    1\n",
      "6008-NAIXK    1\n",
      "5956-YHHRX    1\n",
      "5365-LLFYV    1\n",
      "             ..\n",
      "9796-MVYXX    1\n",
      "2637-FKFSY    1\n",
      "1552-AAGRX    1\n",
      "4304-TSPVK    1\n",
      "3186-AJIEK    1\n",
      "Name: count, Length: 7043, dtype: int64\n"
     ]
    }
   ],
   "source": [
    "#customerID value counts\n",
    "print(telco['customerID'].value_counts())"
   ]
  },
  {
   "cell_type": "code",
   "execution_count": 14,
   "id": "08d2c166-27cb-48be-8c68-ff23e2fd3166",
   "metadata": {},
   "outputs": [],
   "source": [
    "#the customerIDs are unique, although this data is not useful for the model"
   ]
  },
  {
   "cell_type": "code",
   "execution_count": 15,
   "id": "228002e1-daa0-4604-9e72-535dc661c26f",
   "metadata": {},
   "outputs": [
    {
     "name": "stdout",
     "output_type": "stream",
     "text": [
      "gender\n",
      "Male      3555\n",
      "Female    3488\n",
      "Name: count, dtype: int64\n"
     ]
    }
   ],
   "source": [
    "#gender value counts\n",
    "print(telco['gender'].value_counts())"
   ]
  },
  {
   "cell_type": "code",
   "execution_count": 16,
   "id": "42ee8586-3cbd-4871-88ae-69fff229d357",
   "metadata": {},
   "outputs": [],
   "source": [
    "#only two types, good"
   ]
  },
  {
   "cell_type": "code",
   "execution_count": 17,
   "id": "79004c0b-14c0-4e1d-8da1-8a47c058c3ba",
   "metadata": {},
   "outputs": [
    {
     "name": "stdout",
     "output_type": "stream",
     "text": [
      "SeniorCitizen\n",
      "0    5901\n",
      "1    1142\n",
      "Name: count, dtype: int64\n"
     ]
    }
   ],
   "source": [
    "#SeniorCitizen value counts\n",
    "print(telco['SeniorCitizen'].value_counts())"
   ]
  },
  {
   "cell_type": "code",
   "execution_count": 18,
   "id": "5811237b-ec36-41d1-b65f-01d37b77a835",
   "metadata": {},
   "outputs": [],
   "source": [
    "#binary, good"
   ]
  },
  {
   "cell_type": "code",
   "execution_count": 19,
   "id": "7c82f032-b5e1-4fbd-88fa-afb45fdc0cb5",
   "metadata": {},
   "outputs": [
    {
     "name": "stdout",
     "output_type": "stream",
     "text": [
      "Partner\n",
      "No     3641\n",
      "Yes    3402\n",
      "Name: count, dtype: int64\n"
     ]
    }
   ],
   "source": [
    "#Partner value counts\n",
    "print(telco['Partner'].value_counts())"
   ]
  },
  {
   "cell_type": "code",
   "execution_count": 20,
   "id": "d0601ed4-dc4a-463e-92af-3fa918c467eb",
   "metadata": {},
   "outputs": [],
   "source": [
    "#also binary, good (whether the customer has a partner or not)"
   ]
  },
  {
   "cell_type": "code",
   "execution_count": 21,
   "id": "6ece8088-57e9-499e-98cc-778125fbe38c",
   "metadata": {},
   "outputs": [
    {
     "name": "stdout",
     "output_type": "stream",
     "text": [
      "Dependents\n",
      "No     4933\n",
      "Yes    2110\n",
      "Name: count, dtype: int64\n"
     ]
    }
   ],
   "source": [
    "#Dependents value counts\n",
    "print(telco['Dependents'].value_counts())"
   ]
  },
  {
   "cell_type": "code",
   "execution_count": 22,
   "id": "cf23357e-e660-4244-ac9d-6939f40d5e82",
   "metadata": {},
   "outputs": [],
   "source": [
    "#binary, good"
   ]
  },
  {
   "cell_type": "code",
   "execution_count": 23,
   "id": "d8c12a5b-a937-4e26-81b2-83f8a3ddb3f0",
   "metadata": {},
   "outputs": [
    {
     "name": "stdout",
     "output_type": "stream",
     "text": [
      "tenure\n",
      "1     613\n",
      "72    362\n",
      "2     238\n",
      "3     200\n",
      "4     176\n",
      "     ... \n",
      "28     57\n",
      "39     56\n",
      "44     51\n",
      "36     50\n",
      "0      11\n",
      "Name: count, Length: 73, dtype: int64\n"
     ]
    }
   ],
   "source": [
    "#tenure value counts\n",
    "print(telco['tenure'].value_counts())"
   ]
  },
  {
   "cell_type": "code",
   "execution_count": 24,
   "id": "ffc94bd5-a0a0-4531-a3db-526abacfa13a",
   "metadata": {},
   "outputs": [],
   "source": [
    "#73 diff categories (numerical though)"
   ]
  },
  {
   "cell_type": "code",
   "execution_count": 25,
   "id": "949b06ff-105d-4e29-80e2-6fd12bb09035",
   "metadata": {},
   "outputs": [
    {
     "name": "stdout",
     "output_type": "stream",
     "text": [
      "PhoneService\n",
      "Yes    6361\n",
      "No      682\n",
      "Name: count, dtype: int64\n"
     ]
    }
   ],
   "source": [
    "#PhoneService value counts\n",
    "print(telco['PhoneService'].value_counts())"
   ]
  },
  {
   "cell_type": "code",
   "execution_count": 26,
   "id": "0c0b65e0-ed83-4cf8-9bdd-0a402addbf5f",
   "metadata": {},
   "outputs": [],
   "source": [
    "#binary, good"
   ]
  },
  {
   "cell_type": "code",
   "execution_count": 27,
   "id": "5c569ed2-32da-4df0-9a7a-1320c1e5e3ff",
   "metadata": {},
   "outputs": [
    {
     "name": "stdout",
     "output_type": "stream",
     "text": [
      "MultipleLines\n",
      "No                  3390\n",
      "Yes                 2971\n",
      "No phone service     682\n",
      "Name: count, dtype: int64\n"
     ]
    }
   ],
   "source": [
    "#MultipleLines value counts\n",
    "print(telco['MultipleLines'].value_counts())"
   ]
  },
  {
   "cell_type": "code",
   "execution_count": 28,
   "id": "0868c49a-4bb0-45c2-8ad2-8f5092878dcd",
   "metadata": {},
   "outputs": [],
   "source": [
    "#3 categories, good"
   ]
  },
  {
   "cell_type": "code",
   "execution_count": 29,
   "id": "be56a4bc-51e2-4909-a5f0-d98d87aefabf",
   "metadata": {},
   "outputs": [
    {
     "name": "stdout",
     "output_type": "stream",
     "text": [
      "InternetService\n",
      "Fiber optic    3096\n",
      "DSL            2421\n",
      "No             1526\n",
      "Name: count, dtype: int64\n"
     ]
    }
   ],
   "source": [
    "#InternetService value counts\n",
    "print(telco['InternetService'].value_counts())"
   ]
  },
  {
   "cell_type": "code",
   "execution_count": 30,
   "id": "109e762e-c375-48a8-8c94-c40551941480",
   "metadata": {},
   "outputs": [],
   "source": [
    "#3 categories, good"
   ]
  },
  {
   "cell_type": "code",
   "execution_count": 31,
   "id": "adf8ee4b-5aa1-4f83-83e4-2c1f0a34efd8",
   "metadata": {},
   "outputs": [
    {
     "name": "stdout",
     "output_type": "stream",
     "text": [
      "OnlineSecurity\n",
      "No                     3498\n",
      "Yes                    2019\n",
      "No internet service    1526\n",
      "Name: count, dtype: int64\n"
     ]
    }
   ],
   "source": [
    "#OnlineSecurity value counts\n",
    "print(telco['OnlineSecurity'].value_counts())"
   ]
  },
  {
   "cell_type": "code",
   "execution_count": 32,
   "id": "eb3156ea-e4ec-40a4-8a8a-1b8fb72f6884",
   "metadata": {},
   "outputs": [],
   "source": [
    "#3 categories, good"
   ]
  },
  {
   "cell_type": "code",
   "execution_count": 33,
   "id": "7fa755aa-53ac-4e45-87c8-8aba9898193b",
   "metadata": {},
   "outputs": [
    {
     "name": "stdout",
     "output_type": "stream",
     "text": [
      "OnlineBackup\n",
      "No                     3088\n",
      "Yes                    2429\n",
      "No internet service    1526\n",
      "Name: count, dtype: int64\n"
     ]
    }
   ],
   "source": [
    "#OnlineBackup value counts\n",
    "print(telco['OnlineBackup'].value_counts())"
   ]
  },
  {
   "cell_type": "code",
   "execution_count": 34,
   "id": "9617e3c0-528c-4cb3-907f-3cead2b020a3",
   "metadata": {},
   "outputs": [],
   "source": [
    "#3 categories, good"
   ]
  },
  {
   "cell_type": "code",
   "execution_count": 35,
   "id": "ba933bd6-9ad5-4789-bb06-9702c6b7f02a",
   "metadata": {},
   "outputs": [
    {
     "name": "stdout",
     "output_type": "stream",
     "text": [
      "DeviceProtection\n",
      "No                     3095\n",
      "Yes                    2422\n",
      "No internet service    1526\n",
      "Name: count, dtype: int64\n"
     ]
    }
   ],
   "source": [
    "#DeviceProtection value counts\n",
    "print(telco['DeviceProtection'].value_counts())"
   ]
  },
  {
   "cell_type": "code",
   "execution_count": 36,
   "id": "cbe183b1-e1ef-45c5-abe2-1a5ece51d9ee",
   "metadata": {},
   "outputs": [],
   "source": [
    "#3 categories, good"
   ]
  },
  {
   "cell_type": "code",
   "execution_count": 37,
   "id": "3c6c1fd7-ac34-40df-ba99-9dec7a104d35",
   "metadata": {},
   "outputs": [
    {
     "name": "stdout",
     "output_type": "stream",
     "text": [
      "TechSupport\n",
      "No                     3473\n",
      "Yes                    2044\n",
      "No internet service    1526\n",
      "Name: count, dtype: int64\n"
     ]
    }
   ],
   "source": [
    "#TechSupport value counts\n",
    "print(telco['TechSupport'].value_counts())"
   ]
  },
  {
   "cell_type": "code",
   "execution_count": 38,
   "id": "2a1df571-bee4-4e46-af04-253b23b5b1f7",
   "metadata": {},
   "outputs": [],
   "source": [
    "#3 categories, good"
   ]
  },
  {
   "cell_type": "code",
   "execution_count": 39,
   "id": "702ffe58-51b5-42d5-96d8-aa92dcdddada",
   "metadata": {},
   "outputs": [
    {
     "name": "stdout",
     "output_type": "stream",
     "text": [
      "StreamingTV\n",
      "No                     2810\n",
      "Yes                    2707\n",
      "No internet service    1526\n",
      "Name: count, dtype: int64\n"
     ]
    }
   ],
   "source": [
    "#StreamingTV value counts\n",
    "print(telco['StreamingTV'].value_counts())"
   ]
  },
  {
   "cell_type": "code",
   "execution_count": 40,
   "id": "8d9f30b2-77c0-455b-8a9f-7579c0762195",
   "metadata": {},
   "outputs": [],
   "source": [
    "#3 categories, good"
   ]
  },
  {
   "cell_type": "code",
   "execution_count": 41,
   "id": "2a77d242-1eaf-4bd7-a4c7-e292ff7310e5",
   "metadata": {},
   "outputs": [
    {
     "name": "stdout",
     "output_type": "stream",
     "text": [
      "StreamingMovies\n",
      "No                     2785\n",
      "Yes                    2732\n",
      "No internet service    1526\n",
      "Name: count, dtype: int64\n"
     ]
    }
   ],
   "source": [
    "#StreamingMovies value counts\n",
    "print(telco['StreamingMovies'].value_counts())"
   ]
  },
  {
   "cell_type": "code",
   "execution_count": 42,
   "id": "fb4bfc0a-0a17-4de0-b33a-5e3f251c21e1",
   "metadata": {},
   "outputs": [],
   "source": [
    "#3 categories, good"
   ]
  },
  {
   "cell_type": "code",
   "execution_count": 43,
   "id": "abb322bb-744b-4ee4-a42b-835c55e5faff",
   "metadata": {},
   "outputs": [
    {
     "name": "stdout",
     "output_type": "stream",
     "text": [
      "Contract\n",
      "Month-to-month    3875\n",
      "Two year          1695\n",
      "One year          1473\n",
      "Name: count, dtype: int64\n"
     ]
    }
   ],
   "source": [
    "#Contract value counts\n",
    "print(telco['Contract'].value_counts())"
   ]
  },
  {
   "cell_type": "code",
   "execution_count": 44,
   "id": "76d6c33b-5741-4fe7-a2d5-e4fbd58aea7b",
   "metadata": {},
   "outputs": [],
   "source": [
    "#3 categories, good (contract type)"
   ]
  },
  {
   "cell_type": "code",
   "execution_count": 45,
   "id": "8ceebcaf-1dda-48fb-9905-584cacbf36db",
   "metadata": {},
   "outputs": [
    {
     "name": "stdout",
     "output_type": "stream",
     "text": [
      "PaperlessBilling\n",
      "Yes    4171\n",
      "No     2872\n",
      "Name: count, dtype: int64\n"
     ]
    }
   ],
   "source": [
    "#PaperlessBilling value counts\n",
    "print(telco['PaperlessBilling'].value_counts())"
   ]
  },
  {
   "cell_type": "code",
   "execution_count": 46,
   "id": "e914d4ed-4696-4ec9-9f29-15655817af9f",
   "metadata": {},
   "outputs": [],
   "source": [
    "#binary, good"
   ]
  },
  {
   "cell_type": "code",
   "execution_count": 47,
   "id": "3cf1c6bd-9e9c-4f7c-a677-040477311fa7",
   "metadata": {},
   "outputs": [
    {
     "name": "stdout",
     "output_type": "stream",
     "text": [
      "PaymentMethod\n",
      "Electronic check             2365\n",
      "Mailed check                 1612\n",
      "Bank transfer (automatic)    1544\n",
      "Credit card (automatic)      1522\n",
      "Name: count, dtype: int64\n"
     ]
    }
   ],
   "source": [
    "#PaymentMethod value counts\n",
    "print(telco['PaymentMethod'].value_counts())"
   ]
  },
  {
   "cell_type": "code",
   "execution_count": 48,
   "id": "b59e3ed6-506d-4d33-8069-60a462cd0458",
   "metadata": {},
   "outputs": [],
   "source": [
    "#4 categories, good"
   ]
  },
  {
   "cell_type": "code",
   "execution_count": 49,
   "id": "e1624c40-ede1-4420-ab7d-2e1598eb3ea2",
   "metadata": {},
   "outputs": [
    {
     "name": "stdout",
     "output_type": "stream",
     "text": [
      "MonthlyCharges\n",
      "20.05     61\n",
      "19.85     45\n",
      "19.95     44\n",
      "19.90     44\n",
      "20.00     43\n",
      "          ..\n",
      "23.65      1\n",
      "114.70     1\n",
      "43.65      1\n",
      "87.80      1\n",
      "78.70      1\n",
      "Name: count, Length: 1585, dtype: int64\n"
     ]
    }
   ],
   "source": [
    "#MonthlyCharges value counts\n",
    "print(telco['MonthlyCharges'].value_counts())"
   ]
  },
  {
   "cell_type": "code",
   "execution_count": 50,
   "id": "ae681c25-d166-476c-9865-878b7cb7e0bb",
   "metadata": {},
   "outputs": [],
   "source": [
    "#numerical data, 1585 unique values"
   ]
  },
  {
   "cell_type": "code",
   "execution_count": 51,
   "id": "159819d3-de5f-4510-8874-9c035c9d5892",
   "metadata": {},
   "outputs": [
    {
     "name": "stdout",
     "output_type": "stream",
     "text": [
      "TotalCharges\n",
      "          11\n",
      "20.2      11\n",
      "19.75      9\n",
      "20.05      8\n",
      "19.9       8\n",
      "          ..\n",
      "6849.4     1\n",
      "692.35     1\n",
      "130.15     1\n",
      "3211.9     1\n",
      "6844.5     1\n",
      "Name: count, Length: 6531, dtype: int64\n"
     ]
    }
   ],
   "source": [
    "#TotalCharges value counts\n",
    "print(telco['TotalCharges'].value_counts())"
   ]
  },
  {
   "cell_type": "code",
   "execution_count": 52,
   "id": "6cdaf0c8-78fd-445c-adb2-cb430d3d3a49",
   "metadata": {},
   "outputs": [],
   "source": [
    "#numerical data, but what is that first thing, is it null?"
   ]
  },
  {
   "cell_type": "code",
   "execution_count": 53,
   "id": "9419006c-d075-4849-b1c6-9e98f1a87996",
   "metadata": {},
   "outputs": [
    {
     "name": "stdout",
     "output_type": "stream",
     "text": [
      "Churn\n",
      "No     5174\n",
      "Yes    1869\n",
      "Name: count, dtype: int64\n"
     ]
    }
   ],
   "source": [
    "#ChurnChurn value counts\n",
    "print(telco['Churn'].value_counts())"
   ]
  },
  {
   "cell_type": "code",
   "execution_count": 54,
   "id": "182936d1-f4e8-44a5-8b27-a6ba19fcaa5e",
   "metadata": {},
   "outputs": [],
   "source": [
    "#binary, good"
   ]
  },
  {
   "cell_type": "code",
   "execution_count": 55,
   "id": "5e5cc5ee-33d9-4136-8471-8c1dab1829f1",
   "metadata": {},
   "outputs": [],
   "source": [
    "#we have to\n",
    "#convert the binary data into one-hot\n",
    "#convert the data that has more than 2 categories into label encodeing"
   ]
  },
  {
   "cell_type": "code",
   "execution_count": 56,
   "id": "186e0386-d04b-4f69-93d0-3056e89e1f0d",
   "metadata": {},
   "outputs": [
    {
     "name": "stdout",
     "output_type": "stream",
     "text": [
      "488      \n",
      "753      \n",
      "936      \n",
      "1082     \n",
      "1340     \n",
      "3331     \n",
      "3826     \n",
      "4380     \n",
      "5218     \n",
      "6670     \n",
      "6754     \n",
      "Name: TotalCharges, dtype: object\n"
     ]
    }
   ],
   "source": [
    "# Identify non-numeric values\n",
    "non_numeric = telco['TotalCharges'][pd.to_numeric(telco['TotalCharges'], errors='coerce').isna()]\n",
    "print(non_numeric)"
   ]
  },
  {
   "cell_type": "code",
   "execution_count": 57,
   "id": "446d58fa-7b2f-4765-848a-e9dbeadcd20f",
   "metadata": {},
   "outputs": [],
   "source": [
    "#huh, those are numbers\n",
    "#there are not too many of them, I can just replace them manually"
   ]
  },
  {
   "cell_type": "code",
   "execution_count": 58,
   "id": "8cdfc657-b0ed-486d-8d36-6fff0ea837a3",
   "metadata": {},
   "outputs": [
    {
     "name": "stdout",
     "output_type": "stream",
     "text": [
      "0         29.85\n",
      "1       1889.50\n",
      "2        108.15\n",
      "3       1840.75\n",
      "4        151.65\n",
      "         ...   \n",
      "7038    1990.50\n",
      "7039    7362.90\n",
      "7040     346.45\n",
      "7041     306.60\n",
      "7042    6844.50\n",
      "Name: TotalCharges, Length: 7043, dtype: float64\n"
     ]
    }
   ],
   "source": [
    "#mapping the values to be replaced\n",
    "mapping = {'488': 488, '753': 753, '936': 936, '1082': 1082, '1340': 1340, '3331': 3331, '3826': 3826, '4380': 4380, '5218': 5218, '6670': 6670, '6754': 6754}\n",
    "\n",
    "# Replace using the mapping\n",
    "telco['TotalCharges'] = telco['TotalCharges'].replace(mapping)\n",
    "\n",
    "#we fix the missing ' ' values by replacing them with the null to perform conversion to numerical smoothly\n",
    "telco['TotalCharges'] = telco['TotalCharges'].replace(' ', np.nan)\n",
    "\n",
    "# Convert to numeric\n",
    "telco['TotalCharges'] = pd.to_numeric(telco['TotalCharges'])\n",
    "\n",
    "print(telco['TotalCharges'])"
   ]
  },
  {
   "cell_type": "code",
   "execution_count": 59,
   "id": "7e978db7-be44-48e5-b356-23257bff1593",
   "metadata": {},
   "outputs": [],
   "source": [
    "#fix the null values in TotalCharges\n",
    "#we fix the missing/null values by replacing them with the mean (average) of the remaining column since TotalCharges is numrical\n",
    "telco['TotalCharges'] = telco['TotalCharges'].replace(' ', telco['TotalCharges'].mean())"
   ]
  },
  {
   "cell_type": "code",
   "execution_count": 60,
   "id": "b34f4114-9cbb-4989-8891-b117dd81596a",
   "metadata": {},
   "outputs": [
    {
     "name": "stdout",
     "output_type": "stream",
     "text": [
      "TotalCharges\n",
      "20.20      11\n",
      "19.75       9\n",
      "20.05       8\n",
      "19.90       8\n",
      "19.65       8\n",
      "           ..\n",
      "6849.40     1\n",
      "692.35      1\n",
      "130.15      1\n",
      "3211.90     1\n",
      "6844.50     1\n",
      "Name: count, Length: 6530, dtype: int64\n"
     ]
    }
   ],
   "source": [
    "#TotalCharges value counts again\n",
    "print(telco['TotalCharges'].value_counts())"
   ]
  },
  {
   "cell_type": "code",
   "execution_count": 61,
   "id": "dff984b8-1147-4c3b-a0fa-1d130d2e8a87",
   "metadata": {},
   "outputs": [],
   "source": [
    "#no null values, int datatype, all seems good"
   ]
  },
  {
   "cell_type": "code",
   "execution_count": 62,
   "id": "0c777174-44b4-4e78-a6f2-d9957ddc4a43",
   "metadata": {},
   "outputs": [],
   "source": [
    "#dropping the CustomerID column as it is useless for the model training\n",
    "telco2 = telco.drop(columns=['customerID'])"
   ]
  },
  {
   "cell_type": "code",
   "execution_count": 63,
   "id": "20946ae3-2de1-42a7-bf7e-18283526875d",
   "metadata": {},
   "outputs": [
    {
     "name": "stdout",
     "output_type": "stream",
     "text": [
      "<class 'pandas.core.frame.DataFrame'>\n",
      "RangeIndex: 7043 entries, 0 to 7042\n",
      "Data columns (total 20 columns):\n",
      " #   Column            Non-Null Count  Dtype  \n",
      "---  ------            --------------  -----  \n",
      " 0   gender            7043 non-null   object \n",
      " 1   SeniorCitizen     7043 non-null   int64  \n",
      " 2   Partner           7043 non-null   object \n",
      " 3   Dependents        7043 non-null   object \n",
      " 4   tenure            7043 non-null   int64  \n",
      " 5   PhoneService      7043 non-null   object \n",
      " 6   MultipleLines     7043 non-null   object \n",
      " 7   InternetService   7043 non-null   object \n",
      " 8   OnlineSecurity    7043 non-null   object \n",
      " 9   OnlineBackup      7043 non-null   object \n",
      " 10  DeviceProtection  7043 non-null   object \n",
      " 11  TechSupport       7043 non-null   object \n",
      " 12  StreamingTV       7043 non-null   object \n",
      " 13  StreamingMovies   7043 non-null   object \n",
      " 14  Contract          7043 non-null   object \n",
      " 15  PaperlessBilling  7043 non-null   object \n",
      " 16  PaymentMethod     7043 non-null   object \n",
      " 17  MonthlyCharges    7043 non-null   float64\n",
      " 18  TotalCharges      7032 non-null   float64\n",
      " 19  Churn             7043 non-null   object \n",
      "dtypes: float64(2), int64(2), object(16)\n",
      "memory usage: 1.1+ MB\n",
      "None\n",
      "       SeniorCitizen       tenure  MonthlyCharges  TotalCharges\n",
      "count    7043.000000  7043.000000     7043.000000   7032.000000\n",
      "mean        0.162147    32.371149       64.761692   2283.300441\n",
      "std         0.368612    24.559481       30.090047   2266.771362\n",
      "min         0.000000     0.000000       18.250000     18.800000\n",
      "25%         0.000000     9.000000       35.500000    401.450000\n",
      "50%         0.000000    29.000000       70.350000   1397.475000\n",
      "75%         0.000000    55.000000       89.850000   3794.737500\n",
      "max         1.000000    72.000000      118.750000   8684.800000\n"
     ]
    }
   ],
   "source": [
    "#dataframe info and description again\n",
    "print(telco2.info())\n",
    "print(telco2.describe())"
   ]
  },
  {
   "cell_type": "code",
   "execution_count": 64,
   "id": "0034d777-8fc3-45e0-9507-ebfc7017d75e",
   "metadata": {},
   "outputs": [],
   "source": [
    "#looks better"
   ]
  },
  {
   "cell_type": "code",
   "execution_count": 65,
   "id": "7c9d39ac-dad8-4466-9ac7-c54c6551c554",
   "metadata": {},
   "outputs": [],
   "source": [
    "#encoding procedure"
   ]
  },
  {
   "cell_type": "code",
   "execution_count": 66,
   "id": "882d7980-8e9e-49a2-ab41-d41324ee8a38",
   "metadata": {},
   "outputs": [
    {
     "name": "stdout",
     "output_type": "stream",
     "text": [
      "['MultipleLines', 'InternetService', 'OnlineSecurity', 'OnlineBackup', 'DeviceProtection', 'TechSupport', 'StreamingTV', 'StreamingMovies', 'Contract', 'PaymentMethod']\n"
     ]
    }
   ],
   "source": [
    "#getting columns with 3-4 unique categories for label encoding\n",
    "# Set the desired number of unique categories\n",
    "desired_categories = [3, 4]\n",
    "\n",
    "# Identify the columns that have either 3 or 4 unique values\n",
    "columns_lab = [col for col in telco2.columns if telco2[col].nunique() in desired_categories]\n",
    "\n",
    "print(columns_lab)"
   ]
  },
  {
   "cell_type": "code",
   "execution_count": 67,
   "id": "b1824dd9-3bef-4311-adb2-d7b29fab54a8",
   "metadata": {},
   "outputs": [
    {
     "name": "stdout",
     "output_type": "stream",
     "text": [
      "      gender  SeniorCitizen Partner Dependents  tenure PhoneService  \\\n",
      "0     Female              0     Yes         No       1           No   \n",
      "1       Male              0      No         No      34          Yes   \n",
      "2       Male              0      No         No       2          Yes   \n",
      "3       Male              0      No         No      45           No   \n",
      "4     Female              0      No         No       2          Yes   \n",
      "...      ...            ...     ...        ...     ...          ...   \n",
      "7038    Male              0     Yes        Yes      24          Yes   \n",
      "7039  Female              0     Yes        Yes      72          Yes   \n",
      "7040  Female              0     Yes        Yes      11           No   \n",
      "7041    Male              1     Yes         No       4          Yes   \n",
      "7042    Male              0      No         No      66          Yes   \n",
      "\n",
      "      MultipleLines  InternetService  OnlineSecurity  OnlineBackup  \\\n",
      "0                 1                0               0             2   \n",
      "1                 0                0               2             0   \n",
      "2                 0                0               2             2   \n",
      "3                 1                0               2             0   \n",
      "4                 0                1               0             0   \n",
      "...             ...              ...             ...           ...   \n",
      "7038              2                0               2             0   \n",
      "7039              2                1               0             2   \n",
      "7040              1                0               2             0   \n",
      "7041              2                1               0             0   \n",
      "7042              0                1               2             0   \n",
      "\n",
      "      DeviceProtection  TechSupport  StreamingTV  StreamingMovies  Contract  \\\n",
      "0                    0            0            0                0         0   \n",
      "1                    2            0            0                0         1   \n",
      "2                    0            0            0                0         0   \n",
      "3                    2            2            0                0         1   \n",
      "4                    0            0            0                0         0   \n",
      "...                ...          ...          ...              ...       ...   \n",
      "7038                 2            2            2                2         1   \n",
      "7039                 2            0            2                2         1   \n",
      "7040                 0            0            0                0         0   \n",
      "7041                 0            0            0                0         0   \n",
      "7042                 2            2            2                2         2   \n",
      "\n",
      "     PaperlessBilling  PaymentMethod  MonthlyCharges  TotalCharges Churn  \n",
      "0                 Yes              2           29.85         29.85    No  \n",
      "1                  No              3           56.95       1889.50    No  \n",
      "2                 Yes              3           53.85        108.15   Yes  \n",
      "3                  No              0           42.30       1840.75    No  \n",
      "4                 Yes              2           70.70        151.65   Yes  \n",
      "...               ...            ...             ...           ...   ...  \n",
      "7038              Yes              3           84.80       1990.50    No  \n",
      "7039              Yes              1          103.20       7362.90    No  \n",
      "7040              Yes              2           29.60        346.45    No  \n",
      "7041              Yes              3           74.40        306.60   Yes  \n",
      "7042              Yes              0          105.65       6844.50    No  \n",
      "\n",
      "[7043 rows x 20 columns]\n"
     ]
    }
   ],
   "source": [
    "#backup\n",
    "telco3 = telco2\n",
    "#label encoding:\n",
    "label_encoder = LabelEncoder()\n",
    "telco3['MultipleLines'] = label_encoder.fit_transform(telco2['MultipleLines'])\n",
    "telco3['InternetService'] = label_encoder.fit_transform(telco2['InternetService'])\n",
    "telco3['OnlineSecurity'] = label_encoder.fit_transform(telco2['OnlineSecurity'])\n",
    "telco3['OnlineBackup'] = label_encoder.fit_transform(telco2['OnlineBackup'])\n",
    "telco3['DeviceProtection'] = label_encoder.fit_transform(telco2['DeviceProtection'])\n",
    "telco3['TechSupport'] = label_encoder.fit_transform(telco2['TechSupport'])\n",
    "telco3['StreamingTV'] = label_encoder.fit_transform(telco2['StreamingTV'])\n",
    "telco3['StreamingMovies'] = label_encoder.fit_transform(telco2['StreamingMovies'])\n",
    "telco3['Contract'] = label_encoder.fit_transform(telco2['Contract'])\n",
    "telco3['PaymentMethod'] = label_encoder.fit_transform(telco2['PaymentMethod'])\n",
    "print(telco3)"
   ]
  },
  {
   "cell_type": "code",
   "execution_count": 68,
   "id": "0575b38c-1aec-423d-bd13-24e03022dd49",
   "metadata": {},
   "outputs": [
    {
     "name": "stdout",
     "output_type": "stream",
     "text": [
      "['gender', 'SeniorCitizen', 'Partner', 'Dependents', 'PhoneService', 'PaperlessBilling', 'Churn']\n"
     ]
    }
   ],
   "source": [
    "#getting columns with 2 unique categories (binary) for one hot encoding\n",
    "\n",
    "# Identify the columns that have 2 unique values\n",
    "columns_oh = [col for col in telco3.columns if telco3[col].nunique() == 2]\n",
    "\n",
    "print(columns_oh)"
   ]
  },
  {
   "cell_type": "code",
   "execution_count": 69,
   "id": "e2e43099-c4f5-4f44-84f3-16c1b7abbfd2",
   "metadata": {},
   "outputs": [],
   "source": [
    "#ignore senior citizen as its already numerical"
   ]
  },
  {
   "cell_type": "code",
   "execution_count": 70,
   "id": "12c69cfa-25d7-4065-823b-49f92b199c01",
   "metadata": {},
   "outputs": [
    {
     "name": "stdout",
     "output_type": "stream",
     "text": [
      "      gender_Male  Partner_Yes  Dependents_Yes  PhoneService_Yes  \\\n",
      "0           False         True           False             False   \n",
      "1            True        False           False              True   \n",
      "2            True        False           False              True   \n",
      "3            True        False           False             False   \n",
      "4           False        False           False              True   \n",
      "...           ...          ...             ...               ...   \n",
      "7038         True         True            True              True   \n",
      "7039        False         True            True              True   \n",
      "7040        False         True            True             False   \n",
      "7041         True         True           False              True   \n",
      "7042         True        False           False              True   \n",
      "\n",
      "      PaperlessBilling_Yes  Churn_Yes  \n",
      "0                     True      False  \n",
      "1                    False      False  \n",
      "2                     True       True  \n",
      "3                    False      False  \n",
      "4                     True       True  \n",
      "...                    ...        ...  \n",
      "7038                  True      False  \n",
      "7039                  True      False  \n",
      "7040                  True      False  \n",
      "7041                  True       True  \n",
      "7042                  True      False  \n",
      "\n",
      "[7043 rows x 6 columns]\n"
     ]
    }
   ],
   "source": [
    "#one hot encoding and dropping redundant columns\n",
    "telco_oh = pd.get_dummies(telco3[['gender','Partner','Dependents','PhoneService','PaperlessBilling','Churn']], drop_first=True)\n",
    "\n",
    "print(telco_oh)"
   ]
  },
  {
   "cell_type": "code",
   "execution_count": 71,
   "id": "13923489-0913-47fe-8df8-b97e40e7aa97",
   "metadata": {},
   "outputs": [
    {
     "name": "stdout",
     "output_type": "stream",
     "text": [
      "      gender  SeniorCitizen Partner Dependents  tenure PhoneService  \\\n",
      "0     Female              0     Yes         No       1           No   \n",
      "1       Male              0      No         No      34          Yes   \n",
      "2       Male              0      No         No       2          Yes   \n",
      "3       Male              0      No         No      45           No   \n",
      "4     Female              0      No         No       2          Yes   \n",
      "...      ...            ...     ...        ...     ...          ...   \n",
      "7038    Male              0     Yes        Yes      24          Yes   \n",
      "7039  Female              0     Yes        Yes      72          Yes   \n",
      "7040  Female              0     Yes        Yes      11           No   \n",
      "7041    Male              1     Yes         No       4          Yes   \n",
      "7042    Male              0      No         No      66          Yes   \n",
      "\n",
      "      MultipleLines  InternetService  OnlineSecurity  OnlineBackup  ...  \\\n",
      "0                 1                0               0             2  ...   \n",
      "1                 0                0               2             0  ...   \n",
      "2                 0                0               2             2  ...   \n",
      "3                 1                0               2             0  ...   \n",
      "4                 0                1               0             0  ...   \n",
      "...             ...              ...             ...           ...  ...   \n",
      "7038              2                0               2             0  ...   \n",
      "7039              2                1               0             2  ...   \n",
      "7040              1                0               2             0  ...   \n",
      "7041              2                1               0             0  ...   \n",
      "7042              0                1               2             0  ...   \n",
      "\n",
      "      PaymentMethod  MonthlyCharges  TotalCharges  Churn  gender_Male  \\\n",
      "0                 2           29.85         29.85     No        False   \n",
      "1                 3           56.95       1889.50     No         True   \n",
      "2                 3           53.85        108.15    Yes         True   \n",
      "3                 0           42.30       1840.75     No         True   \n",
      "4                 2           70.70        151.65    Yes        False   \n",
      "...             ...             ...           ...    ...          ...   \n",
      "7038              3           84.80       1990.50     No         True   \n",
      "7039              1          103.20       7362.90     No        False   \n",
      "7040              2           29.60        346.45     No        False   \n",
      "7041              3           74.40        306.60    Yes         True   \n",
      "7042              0          105.65       6844.50     No         True   \n",
      "\n",
      "     Partner_Yes  Dependents_Yes  PhoneService_Yes  PaperlessBilling_Yes  \\\n",
      "0           True           False             False                  True   \n",
      "1          False           False              True                 False   \n",
      "2          False           False              True                  True   \n",
      "3          False           False             False                 False   \n",
      "4          False           False              True                  True   \n",
      "...          ...             ...               ...                   ...   \n",
      "7038        True            True              True                  True   \n",
      "7039        True            True              True                  True   \n",
      "7040        True            True             False                  True   \n",
      "7041        True           False              True                  True   \n",
      "7042       False           False              True                  True   \n",
      "\n",
      "     Churn_Yes  \n",
      "0        False  \n",
      "1        False  \n",
      "2         True  \n",
      "3        False  \n",
      "4         True  \n",
      "...        ...  \n",
      "7038     False  \n",
      "7039     False  \n",
      "7040     False  \n",
      "7041      True  \n",
      "7042     False  \n",
      "\n",
      "[7043 rows x 26 columns]\n"
     ]
    }
   ],
   "source": [
    "#backup\n",
    "telco4 = telco3.copy()\n",
    "# Concatenate the original DataFrame with the one-hot encoded DataFrame\n",
    "telco4 = pd.concat([telco3, telco_oh], axis=1)\n",
    "print(telco4)"
   ]
  },
  {
   "cell_type": "code",
   "execution_count": 72,
   "id": "d352c8ed-274d-42bd-96db-e78abbe52e85",
   "metadata": {},
   "outputs": [],
   "source": [
    "#dropping the no longer necessary, pre-one-hot encoded columns\n",
    "telco5 = telco4.drop(['gender', 'Partner', 'Dependents', 'PhoneService', 'PaperlessBilling', 'Churn'], axis=1)"
   ]
  },
  {
   "cell_type": "code",
   "execution_count": 73,
   "id": "e120da1e-8d8c-43d1-807a-77bfa8895ad9",
   "metadata": {},
   "outputs": [
    {
     "name": "stdout",
     "output_type": "stream",
     "text": [
      "<class 'pandas.core.frame.DataFrame'>\n",
      "RangeIndex: 7043 entries, 0 to 7042\n",
      "Data columns (total 20 columns):\n",
      " #   Column                Non-Null Count  Dtype  \n",
      "---  ------                --------------  -----  \n",
      " 0   SeniorCitizen         7043 non-null   int64  \n",
      " 1   tenure                7043 non-null   int64  \n",
      " 2   MultipleLines         7043 non-null   int32  \n",
      " 3   InternetService       7043 non-null   int32  \n",
      " 4   OnlineSecurity        7043 non-null   int32  \n",
      " 5   OnlineBackup          7043 non-null   int32  \n",
      " 6   DeviceProtection      7043 non-null   int32  \n",
      " 7   TechSupport           7043 non-null   int32  \n",
      " 8   StreamingTV           7043 non-null   int32  \n",
      " 9   StreamingMovies       7043 non-null   int32  \n",
      " 10  Contract              7043 non-null   int32  \n",
      " 11  PaymentMethod         7043 non-null   int32  \n",
      " 12  MonthlyCharges        7043 non-null   float64\n",
      " 13  TotalCharges          7032 non-null   float64\n",
      " 14  gender_Male           7043 non-null   bool   \n",
      " 15  Partner_Yes           7043 non-null   bool   \n",
      " 16  Dependents_Yes        7043 non-null   bool   \n",
      " 17  PhoneService_Yes      7043 non-null   bool   \n",
      " 18  PaperlessBilling_Yes  7043 non-null   bool   \n",
      " 19  Churn_Yes             7043 non-null   bool   \n",
      "dtypes: bool(6), float64(2), int32(10), int64(2)\n",
      "memory usage: 536.6 KB\n",
      "None\n"
     ]
    }
   ],
   "source": [
    "#checking the results of our encoding\n",
    "print(telco5.info())"
   ]
  },
  {
   "cell_type": "code",
   "execution_count": 74,
   "id": "d07508f1-b960-414f-a12e-996e621cdc66",
   "metadata": {},
   "outputs": [],
   "source": [
    "#no more objects, but there is a null value in 'TotalCharges'"
   ]
  },
  {
   "cell_type": "code",
   "execution_count": 75,
   "id": "cde22246-67c0-4871-9ccc-ae36ba896ed7",
   "metadata": {},
   "outputs": [],
   "source": [
    "#using mean, fixing 'TotalCharges'\n",
    "#backup\n",
    "telco6 = telco5.copy()\n",
    "#we fix the missing/null values by replacing them with the mean (average) of the remaining column since TotalCharges is numerical\n",
    "telco6['TotalCharges'] = telco6['TotalCharges'].fillna(telco6['TotalCharges'].mean())"
   ]
  },
  {
   "cell_type": "code",
   "execution_count": 76,
   "id": "2a2e9330-16b4-4b60-8067-2ced383c95a2",
   "metadata": {},
   "outputs": [
    {
     "name": "stdout",
     "output_type": "stream",
     "text": [
      "<class 'pandas.core.frame.DataFrame'>\n",
      "RangeIndex: 7043 entries, 0 to 7042\n",
      "Data columns (total 20 columns):\n",
      " #   Column                Non-Null Count  Dtype  \n",
      "---  ------                --------------  -----  \n",
      " 0   SeniorCitizen         7043 non-null   int64  \n",
      " 1   tenure                7043 non-null   int64  \n",
      " 2   MultipleLines         7043 non-null   int32  \n",
      " 3   InternetService       7043 non-null   int32  \n",
      " 4   OnlineSecurity        7043 non-null   int32  \n",
      " 5   OnlineBackup          7043 non-null   int32  \n",
      " 6   DeviceProtection      7043 non-null   int32  \n",
      " 7   TechSupport           7043 non-null   int32  \n",
      " 8   StreamingTV           7043 non-null   int32  \n",
      " 9   StreamingMovies       7043 non-null   int32  \n",
      " 10  Contract              7043 non-null   int32  \n",
      " 11  PaymentMethod         7043 non-null   int32  \n",
      " 12  MonthlyCharges        7043 non-null   float64\n",
      " 13  TotalCharges          7043 non-null   float64\n",
      " 14  gender_Male           7043 non-null   bool   \n",
      " 15  Partner_Yes           7043 non-null   bool   \n",
      " 16  Dependents_Yes        7043 non-null   bool   \n",
      " 17  PhoneService_Yes      7043 non-null   bool   \n",
      " 18  PaperlessBilling_Yes  7043 non-null   bool   \n",
      " 19  Churn_Yes             7043 non-null   bool   \n",
      "dtypes: bool(6), float64(2), int32(10), int64(2)\n",
      "memory usage: 536.6 KB\n",
      "None\n"
     ]
    }
   ],
   "source": [
    "#checking the results of our nullfix\n",
    "print(telco6.info())"
   ]
  },
  {
   "cell_type": "code",
   "execution_count": 77,
   "id": "05f801ca-e3d0-4891-9943-099ca69e0862",
   "metadata": {},
   "outputs": [],
   "source": [
    "#no nulls anymore"
   ]
  },
  {
   "cell_type": "code",
   "execution_count": 78,
   "id": "bdb0c191-fe2f-4e74-9f20-19eb2971071d",
   "metadata": {},
   "outputs": [],
   "source": [
    "#first plots"
   ]
  },
  {
   "cell_type": "code",
   "execution_count": 79,
   "id": "afe101e4-2c1f-4cb0-8826-22a7fbfecc3e",
   "metadata": {},
   "outputs": [],
   "source": [
    "#encoded backup\n",
    "telcoen = telco6.copy()"
   ]
  },
  {
   "cell_type": "code",
   "execution_count": 80,
   "id": "35360d1d-1a1d-40b2-8803-61474000c38f",
   "metadata": {},
   "outputs": [
    {
     "data": {
      "text/plain": [
       "<Axes: >"
      ]
     },
     "execution_count": 80,
     "metadata": {},
     "output_type": "execute_result"
    },
    {
     "data": {
      "image/png": "[encoded data removed]",
      "text/plain": [
       "<Figure size 640x480 with 1 Axes>"
      ]
     },
     "metadata": {},
     "output_type": "display_data"
    }
   ],
   "source": [
    "#outlier inspection boxplot, only the numerical columns\n",
    "sns.boxplot(telcoen[['tenure', 'MonthlyCharges', 'TotalCharges']])"
   ]
  },
  {
   "cell_type": "code",
   "execution_count": 81,
   "id": "0ad3cedf-887a-497a-bcd5-e976d8694ece",
   "metadata": {},
   "outputs": [
    {
     "data": {
      "text/plain": [
       "<Axes: >"
      ]
     },
     "execution_count": 81,
     "metadata": {},
     "output_type": "execute_result"
    },
    {
     "data": {
      "image/png": "[encoded data removed]",
      "text/plain": [
       "<Figure size 640x480 with 1 Axes>"
      ]
     },
     "metadata": {},
     "output_type": "display_data"
    }
   ],
   "source": [
    "sns.boxplot(telcoen[['tenure', 'MonthlyCharges']])"
   ]
  },
  {
   "cell_type": "code",
   "execution_count": 82,
   "id": "3847b3d8-c739-4e2a-ac8a-73405279328e",
   "metadata": {},
   "outputs": [
    {
     "data": {
      "text/plain": [
       "<Axes: >"
      ]
     },
     "execution_count": 82,
     "metadata": {},
     "output_type": "execute_result"
    },
    {
     "data": {
      "image/png": "[encoded data removed]",
      "text/plain": [
       "<Figure size 640x480 with 1 Axes>"
      ]
     },
     "metadata": {},
     "output_type": "display_data"
    }
   ],
   "source": [
    "sns.boxplot(telcoen[['TotalCharges']])"
   ]
  },
  {
   "cell_type": "code",
   "execution_count": 83,
   "id": "f950f4f7-b146-4b01-b204-0f99955a373b",
   "metadata": {},
   "outputs": [],
   "source": [
    "#total charges may have some outliers, rest are good"
   ]
  },
  {
   "cell_type": "code",
   "execution_count": 84,
   "id": "dc82c187-841a-4272-ab14-e0c1dd0621b7",
   "metadata": {},
   "outputs": [],
   "source": [
    "#histograms, just cuz"
   ]
  },
  {
   "cell_type": "code",
   "execution_count": 85,
   "id": "ce124c04-de26-4e74-99a8-1dc1fb86e5ad",
   "metadata": {},
   "outputs": [
    {
     "data": {
      "text/plain": [
       "(array([1612.,  759.,  570.,  556.,  495.,  494.,  452.,  495.,  501.,\n",
       "        1109.]),\n",
       " array([ 0. ,  7.2, 14.4, 21.6, 28.8, 36. , 43.2, 50.4, 57.6, 64.8, 72. ]),\n",
       " <BarContainer object of 10 artists>)"
      ]
     },
     "execution_count": 85,
     "metadata": {},
     "output_type": "execute_result"
    },
    {
     "data": {
      "image/png": "[encoded data removed]",
      "text/plain": [
       "<Figure size 640x480 with 1 Axes>"
      ]
     },
     "metadata": {},
     "output_type": "display_data"
    }
   ],
   "source": [
    "#tenure\n",
    "plt.hist(telcoen['tenure'])"
   ]
  },
  {
   "cell_type": "code",
   "execution_count": 86,
   "id": "46b60742-ee17-4a18-a0bb-83d77a58426d",
   "metadata": {},
   "outputs": [
    {
     "data": {
      "text/plain": [
       "(array([1606.,  191.,  365.,  639.,  473.,  895.,  953.,  869.,  758.,\n",
       "         294.]),\n",
       " array([ 18.25,  28.3 ,  38.35,  48.4 ,  58.45,  68.5 ,  78.55,  88.6 ,\n",
       "         98.65, 108.7 , 118.75]),\n",
       " <BarContainer object of 10 artists>)"
      ]
     },
     "execution_count": 86,
     "metadata": {},
     "output_type": "execute_result"
    },
    {
     "data": {
      "image/png": "[encoded data removed]",
      "text/plain": [
       "<Figure size 640x480 with 1 Axes>"
      ]
     },
     "metadata": {},
     "output_type": "display_data"
    }
   ],
   "source": [
    "#MonthlyCharges\n",
    "plt.hist(telcoen['MonthlyCharges'])"
   ]
  },
  {
   "cell_type": "code",
   "execution_count": 87,
   "id": "9d713060-8aa2-4916-9576-e9d4c1324afd",
   "metadata": {},
   "outputs": [
    {
     "data": {
      "text/plain": [
       "(array([2709., 1228.,  682.,  508.,  454.,  412.,  395.,  310.,  223.,\n",
       "         122.]),\n",
       " array([  18.8,  885.4, 1752. , 2618.6, 3485.2, 4351.8, 5218.4, 6085. ,\n",
       "        6951.6, 7818.2, 8684.8]),\n",
       " <BarContainer object of 10 artists>)"
      ]
     },
     "execution_count": 87,
     "metadata": {},
     "output_type": "execute_result"
    },
    {
     "data": {
      "image/png": "[encoded data removed]",
      "text/plain": [
       "<Figure size 640x480 with 1 Axes>"
      ]
     },
     "metadata": {},
     "output_type": "display_data"
    }
   ],
   "source": [
    "#TotalCharges\n",
    "plt.hist(telcoen['TotalCharges'])"
   ]
  },
  {
   "cell_type": "code",
   "execution_count": 88,
   "id": "8c4e8da0-046f-49af-9e20-2fc2edf81f77",
   "metadata": {},
   "outputs": [],
   "source": [
    "#outliers not too bad\n",
    "#next up, standardization"
   ]
  },
  {
   "cell_type": "code",
   "execution_count": 89,
   "id": "dae0f5a6-f6a5-47d2-80a5-b43b6582168e",
   "metadata": {},
   "outputs": [],
   "source": [
    "#new backup\n",
    "telcost = telcoen.copy()   #standardized + encoded"
   ]
  },
  {
   "cell_type": "code",
   "execution_count": 90,
   "id": "0e9035bc-97f2-4194-896a-d68bf7cbb02a",
   "metadata": {},
   "outputs": [],
   "source": [
    "# Initialize the scaler\n",
    "scaler = StandardScaler()\n",
    "\n",
    "# Select numerical features to standardize\n",
    "numerical_features = ['tenure', 'MonthlyCharges', 'TotalCharges']\n",
    "\n",
    "# Fit and transform the selected numerical columns\n",
    "telcost[numerical_features] = scaler.fit_transform(telcoen[numerical_features])  #standardized + encoded"
   ]
  },
  {
   "cell_type": "code",
   "execution_count": 91,
   "id": "7f832485-e3a5-4821-9aa3-1970a165919d",
   "metadata": {},
   "outputs": [],
   "source": [
    "#viewing data the final preprocessed data"
   ]
  },
  {
   "cell_type": "code",
   "execution_count": 92,
   "id": "5fb2ba72-e8f8-462c-9b04-90513e624a7c",
   "metadata": {},
   "outputs": [
    {
     "name": "stdout",
     "output_type": "stream",
     "text": [
      "      tenure  MonthlyCharges  TotalCharges\n",
      "0          1           29.85         29.85\n",
      "1         34           56.95       1889.50\n",
      "2          2           53.85        108.15\n",
      "3         45           42.30       1840.75\n",
      "4          2           70.70        151.65\n",
      "...      ...             ...           ...\n",
      "7038      24           84.80       1990.50\n",
      "7039      72          103.20       7362.90\n",
      "7040      11           29.60        346.45\n",
      "7041       4           74.40        306.60\n",
      "7042      66          105.65       6844.50\n",
      "\n",
      "[7043 rows x 3 columns]\n",
      "        tenure  MonthlyCharges  TotalCharges\n",
      "0    -1.277445       -1.160323     -0.994971\n",
      "1     0.066327       -0.259629     -0.173876\n",
      "2    -1.236724       -0.362660     -0.960399\n",
      "3     0.514251       -0.746535     -0.195400\n",
      "4    -1.236724        0.197365     -0.941193\n",
      "...        ...             ...           ...\n",
      "7038 -0.340876        0.665992     -0.129281\n",
      "7039  1.613701        1.277533      2.242808\n",
      "7040 -0.870241       -1.168632     -0.855182\n",
      "7041 -1.155283        0.320338     -0.872777\n",
      "7042  1.369379        1.358961      2.013917\n",
      "\n",
      "[7043 rows x 3 columns]\n"
     ]
    }
   ],
   "source": [
    "print(telco[['tenure', 'MonthlyCharges', 'TotalCharges']])\n",
    "print(telcost[['tenure', 'MonthlyCharges', 'TotalCharges']])"
   ]
  },
  {
   "cell_type": "code",
   "execution_count": 93,
   "id": "d6b87e37-1bfc-443a-81c7-6491050621ad",
   "metadata": {},
   "outputs": [],
   "source": [
    "#comparing the encoded+standardized and original data"
   ]
  },
  {
   "cell_type": "code",
   "execution_count": 94,
   "id": "c2d99080-cdf1-49e1-9581-c89768d1e304",
   "metadata": {},
   "outputs": [
    {
     "name": "stdout",
     "output_type": "stream",
     "text": [
      "            tenure  MonthlyCharges  TotalCharges\n",
      "count  7043.000000     7043.000000   7032.000000\n",
      "mean     32.371149       64.761692   2283.300441\n",
      "std      24.559481       30.090047   2266.771362\n",
      "min       0.000000       18.250000     18.800000\n",
      "25%       9.000000       35.500000    401.450000\n",
      "50%      29.000000       70.350000   1397.475000\n",
      "75%      55.000000       89.850000   3794.737500\n",
      "max      72.000000      118.750000   8684.800000\n",
      "             tenure  MonthlyCharges  TotalCharges\n",
      "count  7.043000e+03    7.043000e+03  7.043000e+03\n",
      "mean  -2.421273e-17   -6.406285e-17  8.070910e-17\n",
      "std    1.000071e+00    1.000071e+00  1.000071e+00\n",
      "min   -1.318165e+00   -1.545860e+00 -9.998503e-01\n",
      "25%   -9.516817e-01   -9.725399e-01 -8.305558e-01\n",
      "50%   -1.372744e-01    1.857327e-01 -3.897629e-01\n",
      "75%    9.214551e-01    8.338335e-01  6.637555e-01\n",
      "max    1.613701e+00    1.794352e+00  2.826469e+00\n"
     ]
    }
   ],
   "source": [
    "print(telco[['tenure', 'MonthlyCharges', 'TotalCharges']].describe())\n",
    "print(telcost[['tenure', 'MonthlyCharges', 'TotalCharges']].describe())"
   ]
  },
  {
   "cell_type": "code",
   "execution_count": 95,
   "id": "e4e96720-605b-4dfd-abfc-1c2690baa8f7",
   "metadata": {},
   "outputs": [
    {
     "data": {
      "text/plain": [
       "<Axes: >"
      ]
     },
     "execution_count": 95,
     "metadata": {},
     "output_type": "execute_result"
    },
    {
     "data": {
      "image/png": "[encoded data removed]",
      "text/plain": [
       "<Figure size 640x480 with 1 Axes>"
      ]
     },
     "metadata": {},
     "output_type": "display_data"
    }
   ],
   "source": [
    "sns.boxplot(telco[['tenure', 'MonthlyCharges', 'TotalCharges']])"
   ]
  },
  {
   "cell_type": "code",
   "execution_count": 96,
   "id": "5e581530-edef-45b4-b32c-a615094e5d28",
   "metadata": {},
   "outputs": [
    {
     "data": {
      "text/plain": [
       "<Axes: >"
      ]
     },
     "execution_count": 96,
     "metadata": {},
     "output_type": "execute_result"
    },
    {
     "data": {
      "image/png": "[encoded data removed]",
      "text/plain": [
       "<Figure size 640x480 with 1 Axes>"
      ]
     },
     "metadata": {},
     "output_type": "display_data"
    }
   ],
   "source": [
    "sns.boxplot(telcost[['tenure', 'MonthlyCharges', 'TotalCharges']])"
   ]
  },
  {
   "cell_type": "code",
   "execution_count": 260,
   "id": "44f20973-5783-4a04-a839-c759b08e0b61",
   "metadata": {},
   "outputs": [
    {
     "data": {
      "text/plain": [
       "([0, 1, 2, 3, 4, 5, 6, 7, 8, 9, 10, 11, 12, 13, 14, 15, 16, 17, 18, 19],\n",
       " [Text(0, 0, 'SeniorCitizen'),\n",
       "  Text(1, 0, 'tenure'),\n",
       "  Text(2, 0, 'MultipleLines'),\n",
       "  Text(3, 0, 'InternetService'),\n",
       "  Text(4, 0, 'OnlineSecurity'),\n",
       "  Text(5, 0, 'OnlineBackup'),\n",
       "  Text(6, 0, 'DeviceProtection'),\n",
       "  Text(7, 0, 'TechSupport'),\n",
       "  Text(8, 0, 'StreamingTV'),\n",
       "  Text(9, 0, 'StreamingMovies'),\n",
       "  Text(10, 0, 'Contract'),\n",
       "  Text(11, 0, 'PaymentMethod'),\n",
       "  Text(12, 0, 'MonthlyCharges'),\n",
       "  Text(13, 0, 'TotalCharges'),\n",
       "  Text(14, 0, 'gender_Male'),\n",
       "  Text(15, 0, 'Partner_Yes'),\n",
       "  Text(16, 0, 'Dependents_Yes'),\n",
       "  Text(17, 0, 'PhoneService_Yes'),\n",
       "  Text(18, 0, 'PaperlessBilling_Yes'),\n",
       "  Text(19, 0, 'Churn_Yes')])"
      ]
     },
     "execution_count": 260,
     "metadata": {},
     "output_type": "execute_result"
    },
    {
     "data": {
      "image/png": "[encoded data removed]",
      "text/plain": [
       "<Figure size 640x480 with 1 Axes>"
      ]
     },
     "metadata": {},
     "output_type": "display_data"
    }
   ],
   "source": [
    "sns.boxplot(telcoen)\n",
    "plt.xticks(rotation=90)"
   ]
  },
  {
   "cell_type": "code",
   "execution_count": 262,
   "id": "8c187fbf-d0b9-4995-b1dc-bf9eda7fc076",
   "metadata": {},
   "outputs": [
    {
     "data": {
      "text/plain": [
       "([0, 1, 2, 3, 4, 5, 6, 7, 8, 9, 10, 11, 12, 13, 14, 15, 16, 17, 18, 19],\n",
       " [Text(0, 0, 'SeniorCitizen'),\n",
       "  Text(1, 0, 'tenure'),\n",
       "  Text(2, 0, 'MultipleLines'),\n",
       "  Text(3, 0, 'InternetService'),\n",
       "  Text(4, 0, 'OnlineSecurity'),\n",
       "  Text(5, 0, 'OnlineBackup'),\n",
       "  Text(6, 0, 'DeviceProtection'),\n",
       "  Text(7, 0, 'TechSupport'),\n",
       "  Text(8, 0, 'StreamingTV'),\n",
       "  Text(9, 0, 'StreamingMovies'),\n",
       "  Text(10, 0, 'Contract'),\n",
       "  Text(11, 0, 'PaymentMethod'),\n",
       "  Text(12, 0, 'MonthlyCharges'),\n",
       "  Text(13, 0, 'TotalCharges'),\n",
       "  Text(14, 0, 'gender_Male'),\n",
       "  Text(15, 0, 'Partner_Yes'),\n",
       "  Text(16, 0, 'Dependents_Yes'),\n",
       "  Text(17, 0, 'PhoneService_Yes'),\n",
       "  Text(18, 0, 'PaperlessBilling_Yes'),\n",
       "  Text(19, 0, 'Churn_Yes')])"
      ]
     },
     "execution_count": 262,
     "metadata": {},
     "output_type": "execute_result"
    },
    {
     "data": {
      "image/png": "[encoded data removed]",
      "text/plain": [
       "<Figure size 640x480 with 1 Axes>"
      ]
     },
     "metadata": {},
     "output_type": "display_data"
    }
   ],
   "source": [
    "sns.boxplot(telcost)\n",
    "plt.xticks(rotation=90)"
   ]
  },
  {
   "cell_type": "code",
   "execution_count": 99,
   "id": "b91fa810-21f6-4e04-b798-d1c528d74aad",
   "metadata": {},
   "outputs": [
    {
     "data": {
      "text/plain": [
       "<Axes: >"
      ]
     },
     "execution_count": 99,
     "metadata": {},
     "output_type": "execute_result"
    },
    {
     "data": {
      "image/png": "[encoded data removed]",
      "text/plain": [
       "<Figure size 640x480 with 1 Axes>"
      ]
     },
     "metadata": {},
     "output_type": "display_data"
    },
    {
     "data": {
      "image/png": "[encoded data removed]",
      "text/plain": [
       "<Figure size 640x480 with 1 Axes>"
      ]
     },
     "metadata": {},
     "output_type": "display_data"
    }
   ],
   "source": [
    "telcoen[['tenure', 'MonthlyCharges', 'TotalCharges']].plot(kind='line')\n",
    "telcost[['tenure', 'MonthlyCharges', 'TotalCharges']].plot(kind='line')"
   ]
  },
  {
   "cell_type": "code",
   "execution_count": 100,
   "id": "5b194630-0b9f-4595-951c-c846b1d83371",
   "metadata": {},
   "outputs": [],
   "source": [
    "#try GBM, Random forest, catboost, neural net, logit reg"
   ]
  },
  {
   "cell_type": "code",
   "execution_count": 101,
   "id": "c66d6776-561b-47e4-b417-984585806cf9",
   "metadata": {},
   "outputs": [],
   "source": [
    "#logistic regression"
   ]
  },
  {
   "cell_type": "code",
   "execution_count": 102,
   "id": "4d6b498b-b771-4f52-900d-71ba81dc6b9a",
   "metadata": {},
   "outputs": [],
   "source": [
    "#selecting the the dependent variable\n",
    "#churn is the output to be predicted\n",
    "y_lr = telcost['Churn_Yes'].copy()\n",
    "#selecting the independent variables for predicting heart disease\n",
    "X_lr = telcost.drop(['Churn_Yes'], axis=1)"
   ]
  },
  {
   "cell_type": "code",
   "execution_count": 103,
   "id": "aa95d7a7-be8e-4ce8-b49c-1423f3e41e3b",
   "metadata": {},
   "outputs": [
    {
     "name": "stdout",
     "output_type": "stream",
     "text": [
      "<class 'pandas.core.frame.DataFrame'>\n",
      "RangeIndex: 7043 entries, 0 to 7042\n",
      "Data columns (total 19 columns):\n",
      " #   Column                Non-Null Count  Dtype  \n",
      "---  ------                --------------  -----  \n",
      " 0   SeniorCitizen         7043 non-null   int64  \n",
      " 1   tenure                7043 non-null   float64\n",
      " 2   MultipleLines         7043 non-null   int32  \n",
      " 3   InternetService       7043 non-null   int32  \n",
      " 4   OnlineSecurity        7043 non-null   int32  \n",
      " 5   OnlineBackup          7043 non-null   int32  \n",
      " 6   DeviceProtection      7043 non-null   int32  \n",
      " 7   TechSupport           7043 non-null   int32  \n",
      " 8   StreamingTV           7043 non-null   int32  \n",
      " 9   StreamingMovies       7043 non-null   int32  \n",
      " 10  Contract              7043 non-null   int32  \n",
      " 11  PaymentMethod         7043 non-null   int32  \n",
      " 12  MonthlyCharges        7043 non-null   float64\n",
      " 13  TotalCharges          7043 non-null   float64\n",
      " 14  gender_Male           7043 non-null   bool   \n",
      " 15  Partner_Yes           7043 non-null   bool   \n",
      " 16  Dependents_Yes        7043 non-null   bool   \n",
      " 17  PhoneService_Yes      7043 non-null   bool   \n",
      " 18  PaperlessBilling_Yes  7043 non-null   bool   \n",
      "dtypes: bool(5), float64(3), int32(10), int64(1)\n",
      "memory usage: 529.7 KB\n",
      "None\n"
     ]
    }
   ],
   "source": [
    "#view inputs\n",
    "print(X_lr.info())"
   ]
  },
  {
   "cell_type": "code",
   "execution_count": 104,
   "id": "ddc07273-ada4-49f1-8ae2-cdfadff41351",
   "metadata": {},
   "outputs": [
    {
     "name": "stdout",
     "output_type": "stream",
     "text": [
      "<class 'pandas.core.series.Series'>\n",
      "RangeIndex: 7043 entries, 0 to 7042\n",
      "Series name: Churn_Yes\n",
      "Non-Null Count  Dtype\n",
      "--------------  -----\n",
      "7043 non-null   bool \n",
      "dtypes: bool(1)\n",
      "memory usage: 7.0 KB\n",
      "None\n"
     ]
    }
   ],
   "source": [
    "#view outputs\n",
    "print(y_lr.info())"
   ]
  },
  {
   "cell_type": "code",
   "execution_count": 105,
   "id": "4edc59a4-0970-4e98-804f-db50ae63b9fc",
   "metadata": {},
   "outputs": [],
   "source": [
    "#splitting the dataset into test and train sets\n",
    "X_lr_train, X_lr_test, y_lr_train, y_lr_test = train_test_split(X_lr, y_lr, test_size=0.1, random_state=42)"
   ]
  },
  {
   "cell_type": "code",
   "execution_count": 106,
   "id": "95b826ba-484f-40d8-9a89-2dfd2fb2aa73",
   "metadata": {},
   "outputs": [
    {
     "data": {
      "text/html": [
       "<style>#sk-container-id-1 {\n",
       "  /* Definition of color scheme common for light and dark mode */\n",
       "  --sklearn-color-text: black;\n",
       "  --sklearn-color-line: gray;\n",
       "  /* Definition of color scheme for unfitted estimators */\n",
       "  --sklearn-color-unfitted-level-0: #fff5e6;\n",
       "  --sklearn-color-unfitted-level-1: #f6e4d2;\n",
       "  --sklearn-color-unfitted-level-2: #ffe0b3;\n",
       "  --sklearn-color-unfitted-level-3: chocolate;\n",
       "  /* Definition of color scheme for fitted estimators */\n",
       "  --sklearn-color-fitted-level-0: #f0f8ff;\n",
       "  --sklearn-color-fitted-level-1: #d4ebff;\n",
       "  --sklearn-color-fitted-level-2: #b3dbfd;\n",
       "  --sklearn-color-fitted-level-3: cornflowerblue;\n",
       "\n",
       "  /* Specific color for light theme */\n",
       "  --sklearn-color-text-on-default-background: var(--sg-text-color, var(--theme-code-foreground, var(--jp-content-font-color1, black)));\n",
       "  --sklearn-color-background: var(--sg-background-color, var(--theme-background, var(--jp-layout-color0, white)));\n",
       "  --sklearn-color-border-box: var(--sg-text-color, var(--theme-code-foreground, var(--jp-content-font-color1, black)));\n",
       "  --sklearn-color-icon: #696969;\n",
       "\n",
       "  @media (prefers-color-scheme: dark) {\n",
       "    /* Redefinition of color scheme for dark theme */\n",
       "    --sklearn-color-text-on-default-background: var(--sg-text-color, var(--theme-code-foreground, var(--jp-content-font-color1, white)));\n",
       "    --sklearn-color-background: var(--sg-background-color, var(--theme-background, var(--jp-layout-color0, #111)));\n",
       "    --sklearn-color-border-box: var(--sg-text-color, var(--theme-code-foreground, var(--jp-content-font-color1, white)));\n",
       "    --sklearn-color-icon: #878787;\n",
       "  }\n",
       "}\n",
       "\n",
       "#sk-container-id-1 {\n",
       "  color: var(--sklearn-color-text);\n",
       "}\n",
       "\n",
       "#sk-container-id-1 pre {\n",
       "  padding: 0;\n",
       "}\n",
       "\n",
       "#sk-container-id-1 input.sk-hidden--visually {\n",
       "  border: 0;\n",
       "  clip: rect(1px 1px 1px 1px);\n",
       "  clip: rect(1px, 1px, 1px, 1px);\n",
       "  height: 1px;\n",
       "  margin: -1px;\n",
       "  overflow: hidden;\n",
       "  padding: 0;\n",
       "  position: absolute;\n",
       "  width: 1px;\n",
       "}\n",
       "\n",
       "#sk-container-id-1 div.sk-dashed-wrapped {\n",
       "  border: 1px dashed var(--sklearn-color-line);\n",
       "  margin: 0 0.4em 0.5em 0.4em;\n",
       "  box-sizing: border-box;\n",
       "  padding-bottom: 0.4em;\n",
       "  background-color: var(--sklearn-color-background);\n",
       "}\n",
       "\n",
       "#sk-container-id-1 div.sk-container {\n",
       "  /* jupyter's `normalize.less` sets `[hidden] { display: none; }`\n",
       "     but bootstrap.min.css set `[hidden] { display: none !important; }`\n",
       "     so we also need the `!important` here to be able to override the\n",
       "     default hidden behavior on the sphinx rendered scikit-learn.org.\n",
       "     See: https://github.com/scikit-learn/scikit-learn/issues/21755 */\n",
       "  display: inline-block !important;\n",
       "  position: relative;\n",
       "}\n",
       "\n",
       "#sk-container-id-1 div.sk-text-repr-fallback {\n",
       "  display: none;\n",
       "}\n",
       "\n",
       "div.sk-parallel-item,\n",
       "div.sk-serial,\n",
       "div.sk-item {\n",
       "  /* draw centered vertical line to link estimators */\n",
       "  background-image: linear-gradient(var(--sklearn-color-text-on-default-background), var(--sklearn-color-text-on-default-background));\n",
       "  background-size: 2px 100%;\n",
       "  background-repeat: no-repeat;\n",
       "  background-position: center center;\n",
       "}\n",
       "\n",
       "/* Parallel-specific style estimator block */\n",
       "\n",
       "#sk-container-id-1 div.sk-parallel-item::after {\n",
       "  content: \"\";\n",
       "  width: 100%;\n",
       "  border-bottom: 2px solid var(--sklearn-color-text-on-default-background);\n",
       "  flex-grow: 1;\n",
       "}\n",
       "\n",
       "#sk-container-id-1 div.sk-parallel {\n",
       "  display: flex;\n",
       "  align-items: stretch;\n",
       "  justify-content: center;\n",
       "  background-color: var(--sklearn-color-background);\n",
       "  position: relative;\n",
       "}\n",
       "\n",
       "#sk-container-id-1 div.sk-parallel-item {\n",
       "  display: flex;\n",
       "  flex-direction: column;\n",
       "}\n",
       "\n",
       "#sk-container-id-1 div.sk-parallel-item:first-child::after {\n",
       "  align-self: flex-end;\n",
       "  width: 50%;\n",
       "}\n",
       "\n",
       "#sk-container-id-1 div.sk-parallel-item:last-child::after {\n",
       "  align-self: flex-start;\n",
       "  width: 50%;\n",
       "}\n",
       "\n",
       "#sk-container-id-1 div.sk-parallel-item:only-child::after {\n",
       "  width: 0;\n",
       "}\n",
       "\n",
       "/* Serial-specific style estimator block */\n",
       "\n",
       "#sk-container-id-1 div.sk-serial {\n",
       "  display: flex;\n",
       "  flex-direction: column;\n",
       "  align-items: center;\n",
       "  background-color: var(--sklearn-color-background);\n",
       "  padding-right: 1em;\n",
       "  padding-left: 1em;\n",
       "}\n",
       "\n",
       "\n",
       "/* Toggleable style: style used for estimator/Pipeline/ColumnTransformer box that is\n",
       "clickable and can be expanded/collapsed.\n",
       "- Pipeline and ColumnTransformer use this feature and define the default style\n",
       "- Estimators will overwrite some part of the style using the `sk-estimator` class\n",
       "*/\n",
       "\n",
       "/* Pipeline and ColumnTransformer style (default) */\n",
       "\n",
       "#sk-container-id-1 div.sk-toggleable {\n",
       "  /* Default theme specific background. It is overwritten whether we have a\n",
       "  specific estimator or a Pipeline/ColumnTransformer */\n",
       "  background-color: var(--sklearn-color-background);\n",
       "}\n",
       "\n",
       "/* Toggleable label */\n",
       "#sk-container-id-1 label.sk-toggleable__label {\n",
       "  cursor: pointer;\n",
       "  display: block;\n",
       "  width: 100%;\n",
       "  margin-bottom: 0;\n",
       "  padding: 0.5em;\n",
       "  box-sizing: border-box;\n",
       "  text-align: center;\n",
       "}\n",
       "\n",
       "#sk-container-id-1 label.sk-toggleable__label-arrow:before {\n",
       "  /* Arrow on the left of the label */\n",
       "  content: \"▸\";\n",
       "  float: left;\n",
       "  margin-right: 0.25em;\n",
       "  color: var(--sklearn-color-icon);\n",
       "}\n",
       "\n",
       "#sk-container-id-1 label.sk-toggleable__label-arrow:hover:before {\n",
       "  color: var(--sklearn-color-text);\n",
       "}\n",
       "\n",
       "/* Toggleable content - dropdown */\n",
       "\n",
       "#sk-container-id-1 div.sk-toggleable__content {\n",
       "  max-height: 0;\n",
       "  max-width: 0;\n",
       "  overflow: hidden;\n",
       "  text-align: left;\n",
       "  /* unfitted */\n",
       "  background-color: var(--sklearn-color-unfitted-level-0);\n",
       "}\n",
       "\n",
       "#sk-container-id-1 div.sk-toggleable__content.fitted {\n",
       "  /* fitted */\n",
       "  background-color: var(--sklearn-color-fitted-level-0);\n",
       "}\n",
       "\n",
       "#sk-container-id-1 div.sk-toggleable__content pre {\n",
       "  margin: 0.2em;\n",
       "  border-radius: 0.25em;\n",
       "  color: var(--sklearn-color-text);\n",
       "  /* unfitted */\n",
       "  background-color: var(--sklearn-color-unfitted-level-0);\n",
       "}\n",
       "\n",
       "#sk-container-id-1 div.sk-toggleable__content.fitted pre {\n",
       "  /* unfitted */\n",
       "  background-color: var(--sklearn-color-fitted-level-0);\n",
       "}\n",
       "\n",
       "#sk-container-id-1 input.sk-toggleable__control:checked~div.sk-toggleable__content {\n",
       "  /* Expand drop-down */\n",
       "  max-height: 200px;\n",
       "  max-width: 100%;\n",
       "  overflow: auto;\n",
       "}\n",
       "\n",
       "#sk-container-id-1 input.sk-toggleable__control:checked~label.sk-toggleable__label-arrow:before {\n",
       "  content: \"▾\";\n",
       "}\n",
       "\n",
       "/* Pipeline/ColumnTransformer-specific style */\n",
       "\n",
       "#sk-container-id-1 div.sk-label input.sk-toggleable__control:checked~label.sk-toggleable__label {\n",
       "  color: var(--sklearn-color-text);\n",
       "  background-color: var(--sklearn-color-unfitted-level-2);\n",
       "}\n",
       "\n",
       "#sk-container-id-1 div.sk-label.fitted input.sk-toggleable__control:checked~label.sk-toggleable__label {\n",
       "  background-color: var(--sklearn-color-fitted-level-2);\n",
       "}\n",
       "\n",
       "/* Estimator-specific style */\n",
       "\n",
       "/* Colorize estimator box */\n",
       "#sk-container-id-1 div.sk-estimator input.sk-toggleable__control:checked~label.sk-toggleable__label {\n",
       "  /* unfitted */\n",
       "  background-color: var(--sklearn-color-unfitted-level-2);\n",
       "}\n",
       "\n",
       "#sk-container-id-1 div.sk-estimator.fitted input.sk-toggleable__control:checked~label.sk-toggleable__label {\n",
       "  /* fitted */\n",
       "  background-color: var(--sklearn-color-fitted-level-2);\n",
       "}\n",
       "\n",
       "#sk-container-id-1 div.sk-label label.sk-toggleable__label,\n",
       "#sk-container-id-1 div.sk-label label {\n",
       "  /* The background is the default theme color */\n",
       "  color: var(--sklearn-color-text-on-default-background);\n",
       "}\n",
       "\n",
       "/* On hover, darken the color of the background */\n",
       "#sk-container-id-1 div.sk-label:hover label.sk-toggleable__label {\n",
       "  color: var(--sklearn-color-text);\n",
       "  background-color: var(--sklearn-color-unfitted-level-2);\n",
       "}\n",
       "\n",
       "/* Label box, darken color on hover, fitted */\n",
       "#sk-container-id-1 div.sk-label.fitted:hover label.sk-toggleable__label.fitted {\n",
       "  color: var(--sklearn-color-text);\n",
       "  background-color: var(--sklearn-color-fitted-level-2);\n",
       "}\n",
       "\n",
       "/* Estimator label */\n",
       "\n",
       "#sk-container-id-1 div.sk-label label {\n",
       "  font-family: monospace;\n",
       "  font-weight: bold;\n",
       "  display: inline-block;\n",
       "  line-height: 1.2em;\n",
       "}\n",
       "\n",
       "#sk-container-id-1 div.sk-label-container {\n",
       "  text-align: center;\n",
       "}\n",
       "\n",
       "/* Estimator-specific */\n",
       "#sk-container-id-1 div.sk-estimator {\n",
       "  font-family: monospace;\n",
       "  border: 1px dotted var(--sklearn-color-border-box);\n",
       "  border-radius: 0.25em;\n",
       "  box-sizing: border-box;\n",
       "  margin-bottom: 0.5em;\n",
       "  /* unfitted */\n",
       "  background-color: var(--sklearn-color-unfitted-level-0);\n",
       "}\n",
       "\n",
       "#sk-container-id-1 div.sk-estimator.fitted {\n",
       "  /* fitted */\n",
       "  background-color: var(--sklearn-color-fitted-level-0);\n",
       "}\n",
       "\n",
       "/* on hover */\n",
       "#sk-container-id-1 div.sk-estimator:hover {\n",
       "  /* unfitted */\n",
       "  background-color: var(--sklearn-color-unfitted-level-2);\n",
       "}\n",
       "\n",
       "#sk-container-id-1 div.sk-estimator.fitted:hover {\n",
       "  /* fitted */\n",
       "  background-color: var(--sklearn-color-fitted-level-2);\n",
       "}\n",
       "\n",
       "/* Specification for estimator info (e.g. \"i\" and \"?\") */\n",
       "\n",
       "/* Common style for \"i\" and \"?\" */\n",
       "\n",
       ".sk-estimator-doc-link,\n",
       "a:link.sk-estimator-doc-link,\n",
       "a:visited.sk-estimator-doc-link {\n",
       "  float: right;\n",
       "  font-size: smaller;\n",
       "  line-height: 1em;\n",
       "  font-family: monospace;\n",
       "  background-color: var(--sklearn-color-background);\n",
       "  border-radius: 1em;\n",
       "  height: 1em;\n",
       "  width: 1em;\n",
       "  text-decoration: none !important;\n",
       "  margin-left: 1ex;\n",
       "  /* unfitted */\n",
       "  border: var(--sklearn-color-unfitted-level-1) 1pt solid;\n",
       "  color: var(--sklearn-color-unfitted-level-1);\n",
       "}\n",
       "\n",
       ".sk-estimator-doc-link.fitted,\n",
       "a:link.sk-estimator-doc-link.fitted,\n",
       "a:visited.sk-estimator-doc-link.fitted {\n",
       "  /* fitted */\n",
       "  border: var(--sklearn-color-fitted-level-1) 1pt solid;\n",
       "  color: var(--sklearn-color-fitted-level-1);\n",
       "}\n",
       "\n",
       "/* On hover */\n",
       "div.sk-estimator:hover .sk-estimator-doc-link:hover,\n",
       ".sk-estimator-doc-link:hover,\n",
       "div.sk-label-container:hover .sk-estimator-doc-link:hover,\n",
       ".sk-estimator-doc-link:hover {\n",
       "  /* unfitted */\n",
       "  background-color: var(--sklearn-color-unfitted-level-3);\n",
       "  color: var(--sklearn-color-background);\n",
       "  text-decoration: none;\n",
       "}\n",
       "\n",
       "div.sk-estimator.fitted:hover .sk-estimator-doc-link.fitted:hover,\n",
       ".sk-estimator-doc-link.fitted:hover,\n",
       "div.sk-label-container:hover .sk-estimator-doc-link.fitted:hover,\n",
       ".sk-estimator-doc-link.fitted:hover {\n",
       "  /* fitted */\n",
       "  background-color: var(--sklearn-color-fitted-level-3);\n",
       "  color: var(--sklearn-color-background);\n",
       "  text-decoration: none;\n",
       "}\n",
       "\n",
       "/* Span, style for the box shown on hovering the info icon */\n",
       ".sk-estimator-doc-link span {\n",
       "  display: none;\n",
       "  z-index: 9999;\n",
       "  position: relative;\n",
       "  font-weight: normal;\n",
       "  right: .2ex;\n",
       "  padding: .5ex;\n",
       "  margin: .5ex;\n",
       "  width: min-content;\n",
       "  min-width: 20ex;\n",
       "  max-width: 50ex;\n",
       "  color: var(--sklearn-color-text);\n",
       "  box-shadow: 2pt 2pt 4pt #999;\n",
       "  /* unfitted */\n",
       "  background: var(--sklearn-color-unfitted-level-0);\n",
       "  border: .5pt solid var(--sklearn-color-unfitted-level-3);\n",
       "}\n",
       "\n",
       ".sk-estimator-doc-link.fitted span {\n",
       "  /* fitted */\n",
       "  background: var(--sklearn-color-fitted-level-0);\n",
       "  border: var(--sklearn-color-fitted-level-3);\n",
       "}\n",
       "\n",
       ".sk-estimator-doc-link:hover span {\n",
       "  display: block;\n",
       "}\n",
       "\n",
       "/* \"?\"-specific style due to the `<a>` HTML tag */\n",
       "\n",
       "#sk-container-id-1 a.estimator_doc_link {\n",
       "  float: right;\n",
       "  font-size: 1rem;\n",
       "  line-height: 1em;\n",
       "  font-family: monospace;\n",
       "  background-color: var(--sklearn-color-background);\n",
       "  border-radius: 1rem;\n",
       "  height: 1rem;\n",
       "  width: 1rem;\n",
       "  text-decoration: none;\n",
       "  /* unfitted */\n",
       "  color: var(--sklearn-color-unfitted-level-1);\n",
       "  border: var(--sklearn-color-unfitted-level-1) 1pt solid;\n",
       "}\n",
       "\n",
       "#sk-container-id-1 a.estimator_doc_link.fitted {\n",
       "  /* fitted */\n",
       "  border: var(--sklearn-color-fitted-level-1) 1pt solid;\n",
       "  color: var(--sklearn-color-fitted-level-1);\n",
       "}\n",
       "\n",
       "/* On hover */\n",
       "#sk-container-id-1 a.estimator_doc_link:hover {\n",
       "  /* unfitted */\n",
       "  background-color: var(--sklearn-color-unfitted-level-3);\n",
       "  color: var(--sklearn-color-background);\n",
       "  text-decoration: none;\n",
       "}\n",
       "\n",
       "#sk-container-id-1 a.estimator_doc_link.fitted:hover {\n",
       "  /* fitted */\n",
       "  background-color: var(--sklearn-color-fitted-level-3);\n",
       "}\n",
       "</style><div id=\"sk-container-id-1\" class=\"sk-top-container\"><div class=\"sk-text-repr-fallback\"><pre>LogisticRegression()</pre><b>In a Jupyter environment, please rerun this cell to show the HTML representation or trust the notebook. <br />On GitHub, the HTML representation is unable to render, please try loading this page with nbviewer.org.</b></div><div class=\"sk-container\" hidden><div class=\"sk-item\"><div class=\"sk-estimator fitted sk-toggleable\"><input class=\"sk-toggleable__control sk-hidden--visually\" id=\"sk-estimator-id-1\" type=\"checkbox\" checked><label for=\"sk-estimator-id-1\" class=\"sk-toggleable__label fitted sk-toggleable__label-arrow fitted\">&nbsp;&nbsp;LogisticRegression<a class=\"sk-estimator-doc-link fitted\" rel=\"noreferrer\" target=\"_blank\" href=\"https://scikit-learn.org/1.4/modules/generated/sklearn.linear_model.LogisticRegression.html\">?<span>Documentation for LogisticRegression</span></a><span class=\"sk-estimator-doc-link fitted\">i<span>Fitted</span></span></label><div class=\"sk-toggleable__content fitted\"><pre>LogisticRegression()</pre></div> </div></div></div></div>"
      ],
      "text/plain": [
       "LogisticRegression()"
      ]
     },
     "execution_count": 106,
     "metadata": {},
     "output_type": "execute_result"
    }
   ],
   "source": [
    "# Initialize the Logistic Regression model\n",
    "logreg = LogisticRegression()\n",
    "\n",
    "# Train the model\n",
    "logreg.fit(X_lr_train, y_lr_train)"
   ]
  },
  {
   "cell_type": "code",
   "execution_count": 107,
   "id": "bd94c1dd-01fb-410d-9e81-3b7a53832038",
   "metadata": {},
   "outputs": [],
   "source": [
    "#train logitrem\n",
    "y_lr_pred = logreg.predict(X_lr_test)"
   ]
  },
  {
   "cell_type": "code",
   "execution_count": 108,
   "id": "87ba9f54-8ad3-4cd3-b14b-fc9ff2c2ecb0",
   "metadata": {},
   "outputs": [],
   "source": [
    "#model evaluation"
   ]
  },
  {
   "cell_type": "code",
   "execution_count": 109,
   "id": "2c6de6b7-1425-45b1-b909-c61f53dc641e",
   "metadata": {},
   "outputs": [
    {
     "name": "stdout",
     "output_type": "stream",
     "text": [
      "Accuracy: 0.8184397163120567\n",
      "Confusion Matrix:\n",
      " [[463  48]\n",
      " [ 80 114]]\n",
      "Classification Report:\n",
      "               precision    recall  f1-score   support\n",
      "\n",
      "       False       0.85      0.91      0.88       511\n",
      "        True       0.70      0.59      0.64       194\n",
      "\n",
      "    accuracy                           0.82       705\n",
      "   macro avg       0.78      0.75      0.76       705\n",
      "weighted avg       0.81      0.82      0.81       705\n",
      "\n"
     ]
    }
   ],
   "source": [
    "# Accuracy\n",
    "print(\"Accuracy:\", accuracy_score(y_lr_test, y_lr_pred))\n",
    "\n",
    "# Confusion Matrix\n",
    "print(\"Confusion Matrix:\\n\", confusion_matrix(y_lr_test, y_lr_pred))\n",
    "\n",
    "# Classification Report\n",
    "print(\"Classification Report:\\n\", classification_report(y_lr_test, y_lr_pred))"
   ]
  },
  {
   "cell_type": "code",
   "execution_count": 110,
   "id": "40f05128-ae72-4544-9c1f-fac239f76275",
   "metadata": {},
   "outputs": [
    {
     "data": {
      "image/png": "[encoded data removed]",
      "text/plain": [
       "<Figure size 640x480 with 1 Axes>"
      ]
     },
     "metadata": {},
     "output_type": "display_data"
    }
   ],
   "source": [
    "# ROC Curve\n",
    "y_lr_pred_prob = logreg.predict_proba(X_lr_test)[:, 1]\n",
    "fpr_lr, tpr_lr, thresholds_lr = roc_curve(y_lr_test, y_lr_pred_prob)\n",
    "roc_auc_lr = auc(fpr_lr, tpr_lr)\n",
    "\n",
    "plt.figure()\n",
    "plt.plot(fpr_lr, tpr_lr, color='darkorange', lw=2, label='ROC curve (area = %0.2f)' % roc_auc_lr)\n",
    "plt.plot([0, 1], [0, 1], color='navy', lw=2, linestyle='--')\n",
    "plt.xlabel('False Positive Rate')\n",
    "plt.ylabel('True Positive Rate')\n",
    "plt.title('Receiver Operating Characteristic')\n",
    "plt.legend(loc=\"lower right\")\n",
    "plt.show()"
   ]
  },
  {
   "cell_type": "code",
   "execution_count": 111,
   "id": "282b58e4-51bb-45b7-9e0f-da69df829413",
   "metadata": {},
   "outputs": [],
   "source": [
    "#gradient Boosting"
   ]
  },
  {
   "cell_type": "code",
   "execution_count": 112,
   "id": "134919f6-87af-4211-bc0c-365cfdc41cdd",
   "metadata": {},
   "outputs": [],
   "source": [
    "#selecting the the dependent variable\n",
    "#churn is the output to be predicted\n",
    "y_gbm = telcost['Churn_Yes'].copy()\n",
    "#selecting the independent variables for predicting heart disease\n",
    "X_gbm = telcost.drop(['Churn_Yes'], axis=1)"
   ]
  },
  {
   "cell_type": "code",
   "execution_count": 113,
   "id": "7107e7f7-5eb2-4634-9352-36c3ad83eff7",
   "metadata": {},
   "outputs": [],
   "source": [
    "#splitting the dataset into test and train sets\n",
    "X_gbm_train, X_gbm_test, y_gbm_train, y_gbm_test = train_test_split(X_gbm, y_gbm, test_size=0.1, random_state=42)"
   ]
  },
  {
   "cell_type": "code",
   "execution_count": 114,
   "id": "a084d2bf-7e04-453e-921d-7869545f6ae8",
   "metadata": {},
   "outputs": [
    {
     "data": {
      "text/html": [
       "<style>#sk-container-id-2 {\n",
       "  /* Definition of color scheme common for light and dark mode */\n",
       "  --sklearn-color-text: black;\n",
       "  --sklearn-color-line: gray;\n",
       "  /* Definition of color scheme for unfitted estimators */\n",
       "  --sklearn-color-unfitted-level-0: #fff5e6;\n",
       "  --sklearn-color-unfitted-level-1: #f6e4d2;\n",
       "  --sklearn-color-unfitted-level-2: #ffe0b3;\n",
       "  --sklearn-color-unfitted-level-3: chocolate;\n",
       "  /* Definition of color scheme for fitted estimators */\n",
       "  --sklearn-color-fitted-level-0: #f0f8ff;\n",
       "  --sklearn-color-fitted-level-1: #d4ebff;\n",
       "  --sklearn-color-fitted-level-2: #b3dbfd;\n",
       "  --sklearn-color-fitted-level-3: cornflowerblue;\n",
       "\n",
       "  /* Specific color for light theme */\n",
       "  --sklearn-color-text-on-default-background: var(--sg-text-color, var(--theme-code-foreground, var(--jp-content-font-color1, black)));\n",
       "  --sklearn-color-background: var(--sg-background-color, var(--theme-background, var(--jp-layout-color0, white)));\n",
       "  --sklearn-color-border-box: var(--sg-text-color, var(--theme-code-foreground, var(--jp-content-font-color1, black)));\n",
       "  --sklearn-color-icon: #696969;\n",
       "\n",
       "  @media (prefers-color-scheme: dark) {\n",
       "    /* Redefinition of color scheme for dark theme */\n",
       "    --sklearn-color-text-on-default-background: var(--sg-text-color, var(--theme-code-foreground, var(--jp-content-font-color1, white)));\n",
       "    --sklearn-color-background: var(--sg-background-color, var(--theme-background, var(--jp-layout-color0, #111)));\n",
       "    --sklearn-color-border-box: var(--sg-text-color, var(--theme-code-foreground, var(--jp-content-font-color1, white)));\n",
       "    --sklearn-color-icon: #878787;\n",
       "  }\n",
       "}\n",
       "\n",
       "#sk-container-id-2 {\n",
       "  color: var(--sklearn-color-text);\n",
       "}\n",
       "\n",
       "#sk-container-id-2 pre {\n",
       "  padding: 0;\n",
       "}\n",
       "\n",
       "#sk-container-id-2 input.sk-hidden--visually {\n",
       "  border: 0;\n",
       "  clip: rect(1px 1px 1px 1px);\n",
       "  clip: rect(1px, 1px, 1px, 1px);\n",
       "  height: 1px;\n",
       "  margin: -1px;\n",
       "  overflow: hidden;\n",
       "  padding: 0;\n",
       "  position: absolute;\n",
       "  width: 1px;\n",
       "}\n",
       "\n",
       "#sk-container-id-2 div.sk-dashed-wrapped {\n",
       "  border: 1px dashed var(--sklearn-color-line);\n",
       "  margin: 0 0.4em 0.5em 0.4em;\n",
       "  box-sizing: border-box;\n",
       "  padding-bottom: 0.4em;\n",
       "  background-color: var(--sklearn-color-background);\n",
       "}\n",
       "\n",
       "#sk-container-id-2 div.sk-container {\n",
       "  /* jupyter's `normalize.less` sets `[hidden] { display: none; }`\n",
       "     but bootstrap.min.css set `[hidden] { display: none !important; }`\n",
       "     so we also need the `!important` here to be able to override the\n",
       "     default hidden behavior on the sphinx rendered scikit-learn.org.\n",
       "     See: https://github.com/scikit-learn/scikit-learn/issues/21755 */\n",
       "  display: inline-block !important;\n",
       "  position: relative;\n",
       "}\n",
       "\n",
       "#sk-container-id-2 div.sk-text-repr-fallback {\n",
       "  display: none;\n",
       "}\n",
       "\n",
       "div.sk-parallel-item,\n",
       "div.sk-serial,\n",
       "div.sk-item {\n",
       "  /* draw centered vertical line to link estimators */\n",
       "  background-image: linear-gradient(var(--sklearn-color-text-on-default-background), var(--sklearn-color-text-on-default-background));\n",
       "  background-size: 2px 100%;\n",
       "  background-repeat: no-repeat;\n",
       "  background-position: center center;\n",
       "}\n",
       "\n",
       "/* Parallel-specific style estimator block */\n",
       "\n",
       "#sk-container-id-2 div.sk-parallel-item::after {\n",
       "  content: \"\";\n",
       "  width: 100%;\n",
       "  border-bottom: 2px solid var(--sklearn-color-text-on-default-background);\n",
       "  flex-grow: 1;\n",
       "}\n",
       "\n",
       "#sk-container-id-2 div.sk-parallel {\n",
       "  display: flex;\n",
       "  align-items: stretch;\n",
       "  justify-content: center;\n",
       "  background-color: var(--sklearn-color-background);\n",
       "  position: relative;\n",
       "}\n",
       "\n",
       "#sk-container-id-2 div.sk-parallel-item {\n",
       "  display: flex;\n",
       "  flex-direction: column;\n",
       "}\n",
       "\n",
       "#sk-container-id-2 div.sk-parallel-item:first-child::after {\n",
       "  align-self: flex-end;\n",
       "  width: 50%;\n",
       "}\n",
       "\n",
       "#sk-container-id-2 div.sk-parallel-item:last-child::after {\n",
       "  align-self: flex-start;\n",
       "  width: 50%;\n",
       "}\n",
       "\n",
       "#sk-container-id-2 div.sk-parallel-item:only-child::after {\n",
       "  width: 0;\n",
       "}\n",
       "\n",
       "/* Serial-specific style estimator block */\n",
       "\n",
       "#sk-container-id-2 div.sk-serial {\n",
       "  display: flex;\n",
       "  flex-direction: column;\n",
       "  align-items: center;\n",
       "  background-color: var(--sklearn-color-background);\n",
       "  padding-right: 1em;\n",
       "  padding-left: 1em;\n",
       "}\n",
       "\n",
       "\n",
       "/* Toggleable style: style used for estimator/Pipeline/ColumnTransformer box that is\n",
       "clickable and can be expanded/collapsed.\n",
       "- Pipeline and ColumnTransformer use this feature and define the default style\n",
       "- Estimators will overwrite some part of the style using the `sk-estimator` class\n",
       "*/\n",
       "\n",
       "/* Pipeline and ColumnTransformer style (default) */\n",
       "\n",
       "#sk-container-id-2 div.sk-toggleable {\n",
       "  /* Default theme specific background. It is overwritten whether we have a\n",
       "  specific estimator or a Pipeline/ColumnTransformer */\n",
       "  background-color: var(--sklearn-color-background);\n",
       "}\n",
       "\n",
       "/* Toggleable label */\n",
       "#sk-container-id-2 label.sk-toggleable__label {\n",
       "  cursor: pointer;\n",
       "  display: block;\n",
       "  width: 100%;\n",
       "  margin-bottom: 0;\n",
       "  padding: 0.5em;\n",
       "  box-sizing: border-box;\n",
       "  text-align: center;\n",
       "}\n",
       "\n",
       "#sk-container-id-2 label.sk-toggleable__label-arrow:before {\n",
       "  /* Arrow on the left of the label */\n",
       "  content: \"▸\";\n",
       "  float: left;\n",
       "  margin-right: 0.25em;\n",
       "  color: var(--sklearn-color-icon);\n",
       "}\n",
       "\n",
       "#sk-container-id-2 label.sk-toggleable__label-arrow:hover:before {\n",
       "  color: var(--sklearn-color-text);\n",
       "}\n",
       "\n",
       "/* Toggleable content - dropdown */\n",
       "\n",
       "#sk-container-id-2 div.sk-toggleable__content {\n",
       "  max-height: 0;\n",
       "  max-width: 0;\n",
       "  overflow: hidden;\n",
       "  text-align: left;\n",
       "  /* unfitted */\n",
       "  background-color: var(--sklearn-color-unfitted-level-0);\n",
       "}\n",
       "\n",
       "#sk-container-id-2 div.sk-toggleable__content.fitted {\n",
       "  /* fitted */\n",
       "  background-color: var(--sklearn-color-fitted-level-0);\n",
       "}\n",
       "\n",
       "#sk-container-id-2 div.sk-toggleable__content pre {\n",
       "  margin: 0.2em;\n",
       "  border-radius: 0.25em;\n",
       "  color: var(--sklearn-color-text);\n",
       "  /* unfitted */\n",
       "  background-color: var(--sklearn-color-unfitted-level-0);\n",
       "}\n",
       "\n",
       "#sk-container-id-2 div.sk-toggleable__content.fitted pre {\n",
       "  /* unfitted */\n",
       "  background-color: var(--sklearn-color-fitted-level-0);\n",
       "}\n",
       "\n",
       "#sk-container-id-2 input.sk-toggleable__control:checked~div.sk-toggleable__content {\n",
       "  /* Expand drop-down */\n",
       "  max-height: 200px;\n",
       "  max-width: 100%;\n",
       "  overflow: auto;\n",
       "}\n",
       "\n",
       "#sk-container-id-2 input.sk-toggleable__control:checked~label.sk-toggleable__label-arrow:before {\n",
       "  content: \"▾\";\n",
       "}\n",
       "\n",
       "/* Pipeline/ColumnTransformer-specific style */\n",
       "\n",
       "#sk-container-id-2 div.sk-label input.sk-toggleable__control:checked~label.sk-toggleable__label {\n",
       "  color: var(--sklearn-color-text);\n",
       "  background-color: var(--sklearn-color-unfitted-level-2);\n",
       "}\n",
       "\n",
       "#sk-container-id-2 div.sk-label.fitted input.sk-toggleable__control:checked~label.sk-toggleable__label {\n",
       "  background-color: var(--sklearn-color-fitted-level-2);\n",
       "}\n",
       "\n",
       "/* Estimator-specific style */\n",
       "\n",
       "/* Colorize estimator box */\n",
       "#sk-container-id-2 div.sk-estimator input.sk-toggleable__control:checked~label.sk-toggleable__label {\n",
       "  /* unfitted */\n",
       "  background-color: var(--sklearn-color-unfitted-level-2);\n",
       "}\n",
       "\n",
       "#sk-container-id-2 div.sk-estimator.fitted input.sk-toggleable__control:checked~label.sk-toggleable__label {\n",
       "  /* fitted */\n",
       "  background-color: var(--sklearn-color-fitted-level-2);\n",
       "}\n",
       "\n",
       "#sk-container-id-2 div.sk-label label.sk-toggleable__label,\n",
       "#sk-container-id-2 div.sk-label label {\n",
       "  /* The background is the default theme color */\n",
       "  color: var(--sklearn-color-text-on-default-background);\n",
       "}\n",
       "\n",
       "/* On hover, darken the color of the background */\n",
       "#sk-container-id-2 div.sk-label:hover label.sk-toggleable__label {\n",
       "  color: var(--sklearn-color-text);\n",
       "  background-color: var(--sklearn-color-unfitted-level-2);\n",
       "}\n",
       "\n",
       "/* Label box, darken color on hover, fitted */\n",
       "#sk-container-id-2 div.sk-label.fitted:hover label.sk-toggleable__label.fitted {\n",
       "  color: var(--sklearn-color-text);\n",
       "  background-color: var(--sklearn-color-fitted-level-2);\n",
       "}\n",
       "\n",
       "/* Estimator label */\n",
       "\n",
       "#sk-container-id-2 div.sk-label label {\n",
       "  font-family: monospace;\n",
       "  font-weight: bold;\n",
       "  display: inline-block;\n",
       "  line-height: 1.2em;\n",
       "}\n",
       "\n",
       "#sk-container-id-2 div.sk-label-container {\n",
       "  text-align: center;\n",
       "}\n",
       "\n",
       "/* Estimator-specific */\n",
       "#sk-container-id-2 div.sk-estimator {\n",
       "  font-family: monospace;\n",
       "  border: 1px dotted var(--sklearn-color-border-box);\n",
       "  border-radius: 0.25em;\n",
       "  box-sizing: border-box;\n",
       "  margin-bottom: 0.5em;\n",
       "  /* unfitted */\n",
       "  background-color: var(--sklearn-color-unfitted-level-0);\n",
       "}\n",
       "\n",
       "#sk-container-id-2 div.sk-estimator.fitted {\n",
       "  /* fitted */\n",
       "  background-color: var(--sklearn-color-fitted-level-0);\n",
       "}\n",
       "\n",
       "/* on hover */\n",
       "#sk-container-id-2 div.sk-estimator:hover {\n",
       "  /* unfitted */\n",
       "  background-color: var(--sklearn-color-unfitted-level-2);\n",
       "}\n",
       "\n",
       "#sk-container-id-2 div.sk-estimator.fitted:hover {\n",
       "  /* fitted */\n",
       "  background-color: var(--sklearn-color-fitted-level-2);\n",
       "}\n",
       "\n",
       "/* Specification for estimator info (e.g. \"i\" and \"?\") */\n",
       "\n",
       "/* Common style for \"i\" and \"?\" */\n",
       "\n",
       ".sk-estimator-doc-link,\n",
       "a:link.sk-estimator-doc-link,\n",
       "a:visited.sk-estimator-doc-link {\n",
       "  float: right;\n",
       "  font-size: smaller;\n",
       "  line-height: 1em;\n",
       "  font-family: monospace;\n",
       "  background-color: var(--sklearn-color-background);\n",
       "  border-radius: 1em;\n",
       "  height: 1em;\n",
       "  width: 1em;\n",
       "  text-decoration: none !important;\n",
       "  margin-left: 1ex;\n",
       "  /* unfitted */\n",
       "  border: var(--sklearn-color-unfitted-level-1) 1pt solid;\n",
       "  color: var(--sklearn-color-unfitted-level-1);\n",
       "}\n",
       "\n",
       ".sk-estimator-doc-link.fitted,\n",
       "a:link.sk-estimator-doc-link.fitted,\n",
       "a:visited.sk-estimator-doc-link.fitted {\n",
       "  /* fitted */\n",
       "  border: var(--sklearn-color-fitted-level-1) 1pt solid;\n",
       "  color: var(--sklearn-color-fitted-level-1);\n",
       "}\n",
       "\n",
       "/* On hover */\n",
       "div.sk-estimator:hover .sk-estimator-doc-link:hover,\n",
       ".sk-estimator-doc-link:hover,\n",
       "div.sk-label-container:hover .sk-estimator-doc-link:hover,\n",
       ".sk-estimator-doc-link:hover {\n",
       "  /* unfitted */\n",
       "  background-color: var(--sklearn-color-unfitted-level-3);\n",
       "  color: var(--sklearn-color-background);\n",
       "  text-decoration: none;\n",
       "}\n",
       "\n",
       "div.sk-estimator.fitted:hover .sk-estimator-doc-link.fitted:hover,\n",
       ".sk-estimator-doc-link.fitted:hover,\n",
       "div.sk-label-container:hover .sk-estimator-doc-link.fitted:hover,\n",
       ".sk-estimator-doc-link.fitted:hover {\n",
       "  /* fitted */\n",
       "  background-color: var(--sklearn-color-fitted-level-3);\n",
       "  color: var(--sklearn-color-background);\n",
       "  text-decoration: none;\n",
       "}\n",
       "\n",
       "/* Span, style for the box shown on hovering the info icon */\n",
       ".sk-estimator-doc-link span {\n",
       "  display: none;\n",
       "  z-index: 9999;\n",
       "  position: relative;\n",
       "  font-weight: normal;\n",
       "  right: .2ex;\n",
       "  padding: .5ex;\n",
       "  margin: .5ex;\n",
       "  width: min-content;\n",
       "  min-width: 20ex;\n",
       "  max-width: 50ex;\n",
       "  color: var(--sklearn-color-text);\n",
       "  box-shadow: 2pt 2pt 4pt #999;\n",
       "  /* unfitted */\n",
       "  background: var(--sklearn-color-unfitted-level-0);\n",
       "  border: .5pt solid var(--sklearn-color-unfitted-level-3);\n",
       "}\n",
       "\n",
       ".sk-estimator-doc-link.fitted span {\n",
       "  /* fitted */\n",
       "  background: var(--sklearn-color-fitted-level-0);\n",
       "  border: var(--sklearn-color-fitted-level-3);\n",
       "}\n",
       "\n",
       ".sk-estimator-doc-link:hover span {\n",
       "  display: block;\n",
       "}\n",
       "\n",
       "/* \"?\"-specific style due to the `<a>` HTML tag */\n",
       "\n",
       "#sk-container-id-2 a.estimator_doc_link {\n",
       "  float: right;\n",
       "  font-size: 1rem;\n",
       "  line-height: 1em;\n",
       "  font-family: monospace;\n",
       "  background-color: var(--sklearn-color-background);\n",
       "  border-radius: 1rem;\n",
       "  height: 1rem;\n",
       "  width: 1rem;\n",
       "  text-decoration: none;\n",
       "  /* unfitted */\n",
       "  color: var(--sklearn-color-unfitted-level-1);\n",
       "  border: var(--sklearn-color-unfitted-level-1) 1pt solid;\n",
       "}\n",
       "\n",
       "#sk-container-id-2 a.estimator_doc_link.fitted {\n",
       "  /* fitted */\n",
       "  border: var(--sklearn-color-fitted-level-1) 1pt solid;\n",
       "  color: var(--sklearn-color-fitted-level-1);\n",
       "}\n",
       "\n",
       "/* On hover */\n",
       "#sk-container-id-2 a.estimator_doc_link:hover {\n",
       "  /* unfitted */\n",
       "  background-color: var(--sklearn-color-unfitted-level-3);\n",
       "  color: var(--sklearn-color-background);\n",
       "  text-decoration: none;\n",
       "}\n",
       "\n",
       "#sk-container-id-2 a.estimator_doc_link.fitted:hover {\n",
       "  /* fitted */\n",
       "  background-color: var(--sklearn-color-fitted-level-3);\n",
       "}\n",
       "</style><div id=\"sk-container-id-2\" class=\"sk-top-container\"><div class=\"sk-text-repr-fallback\"><pre>GradientBoostingClassifier(learning_rate=0.01, max_depth=5, n_estimators=550,\n",
       "                           random_state=42)</pre><b>In a Jupyter environment, please rerun this cell to show the HTML representation or trust the notebook. <br />On GitHub, the HTML representation is unable to render, please try loading this page with nbviewer.org.</b></div><div class=\"sk-container\" hidden><div class=\"sk-item\"><div class=\"sk-estimator fitted sk-toggleable\"><input class=\"sk-toggleable__control sk-hidden--visually\" id=\"sk-estimator-id-2\" type=\"checkbox\" checked><label for=\"sk-estimator-id-2\" class=\"sk-toggleable__label fitted sk-toggleable__label-arrow fitted\">&nbsp;&nbsp;GradientBoostingClassifier<a class=\"sk-estimator-doc-link fitted\" rel=\"noreferrer\" target=\"_blank\" href=\"https://scikit-learn.org/1.4/modules/generated/sklearn.ensemble.GradientBoostingClassifier.html\">?<span>Documentation for GradientBoostingClassifier</span></a><span class=\"sk-estimator-doc-link fitted\">i<span>Fitted</span></span></label><div class=\"sk-toggleable__content fitted\"><pre>GradientBoostingClassifier(learning_rate=0.01, max_depth=5, n_estimators=550,\n",
       "                           random_state=42)</pre></div> </div></div></div></div>"
      ],
      "text/plain": [
       "GradientBoostingClassifier(learning_rate=0.01, max_depth=5, n_estimators=550,\n",
       "                           random_state=42)"
      ]
     },
     "execution_count": 114,
     "metadata": {},
     "output_type": "execute_result"
    }
   ],
   "source": [
    "# Initialize the Gradient Boosting model\n",
    "gbm = GradientBoostingClassifier(n_estimators=550, learning_rate=0.01, max_depth=5, random_state=42)\n",
    "\n",
    "# Train the model\n",
    "gbm.fit(X_gbm_train, y_gbm_train)"
   ]
  },
  {
   "cell_type": "code",
   "execution_count": 115,
   "id": "f4b84dad-6e4c-4ca3-9f5f-81e56df7de05",
   "metadata": {},
   "outputs": [],
   "source": [
    "#vary the the gbm vals for better accur"
   ]
  },
  {
   "cell_type": "code",
   "execution_count": 116,
   "id": "2919a71a-8b0b-48f6-9aed-621512b6a06b",
   "metadata": {},
   "outputs": [],
   "source": [
    "#predictions\n",
    "y_gbm_pred = gbm.predict(X_gbm_test)"
   ]
  },
  {
   "cell_type": "code",
   "execution_count": 117,
   "id": "26652e1a-8bcd-4c6d-ae12-b59484e2cab1",
   "metadata": {},
   "outputs": [],
   "source": [
    "#model Evaluation"
   ]
  },
  {
   "cell_type": "code",
   "execution_count": 118,
   "id": "61515fa4-f2a6-4bb8-9f81-96d49e9b54da",
   "metadata": {},
   "outputs": [
    {
     "name": "stdout",
     "output_type": "stream",
     "text": [
      "Accuracy: 0.8113475177304964\n",
      "Confusion Matrix:\n",
      " [[465  46]\n",
      " [ 87 107]]\n",
      "Classification Report:\n",
      "               precision    recall  f1-score   support\n",
      "\n",
      "       False       0.84      0.91      0.87       511\n",
      "        True       0.70      0.55      0.62       194\n",
      "\n",
      "    accuracy                           0.81       705\n",
      "   macro avg       0.77      0.73      0.75       705\n",
      "weighted avg       0.80      0.81      0.80       705\n",
      "\n"
     ]
    }
   ],
   "source": [
    "# Accuracy\n",
    "print(\"Accuracy:\", accuracy_score(y_gbm_test, y_gbm_pred))\n",
    "\n",
    "# Confusion Matrix\n",
    "print(\"Confusion Matrix:\\n\", confusion_matrix(y_gbm_test, y_gbm_pred))\n",
    "\n",
    "# Classification Report\n",
    "print(\"Classification Report:\\n\", classification_report(y_gbm_test, y_gbm_pred))"
   ]
  },
  {
   "cell_type": "code",
   "execution_count": 119,
   "id": "c6cdebbc-3511-4520-9cf9-587fd2e1e165",
   "metadata": {},
   "outputs": [
    {
     "data": {
      "image/png": "[encoded data removed]",
      "text/plain": [
       "<Figure size 640x480 with 1 Axes>"
      ]
     },
     "metadata": {},
     "output_type": "display_data"
    }
   ],
   "source": [
    "# ROC Curve\n",
    "y_gbm_pred_prob = gbm.predict_proba(X_gbm_test)[:, 1]\n",
    "fpr_gbm, tpr_gbm, thresholds_gbm = roc_curve(y_gbm_test, y_gbm_pred_prob)\n",
    "roc_auc_gbm = auc(fpr_gbm, tpr_gbm)\n",
    "\n",
    "plt.figure()\n",
    "plt.plot(fpr_gbm, tpr_gbm, color='darkorange', lw=2, label='ROC curve (area = %0.2f)' % roc_auc_gbm)\n",
    "plt.plot([0, 1], [0, 1], color='navy', lw=2, linestyle='--')\n",
    "plt.xlabel('False Positive Rate')\n",
    "plt.ylabel('True Positive Rate')\n",
    "plt.title('Receiver Operating Characteristic')\n",
    "plt.legend(loc=\"lower right\")\n",
    "plt.show()"
   ]
  },
  {
   "cell_type": "code",
   "execution_count": 120,
   "id": "77ed940e-c77d-4b96-b3fe-9284879c9e7c",
   "metadata": {},
   "outputs": [],
   "source": [
    "#Random Forest"
   ]
  },
  {
   "cell_type": "code",
   "execution_count": 121,
   "id": "aa67c7e8-22e4-436a-94ea-2db43674208a",
   "metadata": {},
   "outputs": [],
   "source": [
    "#selecting the the dependent variable\n",
    "#churn is the output to be predicted\n",
    "y_rf = telcost['Churn_Yes'].copy()\n",
    "#selecting the independent variables for predicting heart disease\n",
    "X_rf = telcost.drop(['Churn_Yes'], axis=1)"
   ]
  },
  {
   "cell_type": "code",
   "execution_count": 122,
   "id": "2300985e-64c2-4f25-9d16-da106ef7ab68",
   "metadata": {},
   "outputs": [],
   "source": [
    "#splitting the dataset into test and train sets\n",
    "X_rf_train, X_rf_test, y_rf_train, y_rf_test = train_test_split(X_rf, y_rf, test_size=0.2, random_state=42)"
   ]
  },
  {
   "cell_type": "code",
   "execution_count": 123,
   "id": "7ce79ce0-a4c2-4886-aa99-6c96a127ee5e",
   "metadata": {},
   "outputs": [
    {
     "data": {
      "text/html": [
       "<style>#sk-container-id-3 {\n",
       "  /* Definition of color scheme common for light and dark mode */\n",
       "  --sklearn-color-text: black;\n",
       "  --sklearn-color-line: gray;\n",
       "  /* Definition of color scheme for unfitted estimators */\n",
       "  --sklearn-color-unfitted-level-0: #fff5e6;\n",
       "  --sklearn-color-unfitted-level-1: #f6e4d2;\n",
       "  --sklearn-color-unfitted-level-2: #ffe0b3;\n",
       "  --sklearn-color-unfitted-level-3: chocolate;\n",
       "  /* Definition of color scheme for fitted estimators */\n",
       "  --sklearn-color-fitted-level-0: #f0f8ff;\n",
       "  --sklearn-color-fitted-level-1: #d4ebff;\n",
       "  --sklearn-color-fitted-level-2: #b3dbfd;\n",
       "  --sklearn-color-fitted-level-3: cornflowerblue;\n",
       "\n",
       "  /* Specific color for light theme */\n",
       "  --sklearn-color-text-on-default-background: var(--sg-text-color, var(--theme-code-foreground, var(--jp-content-font-color1, black)));\n",
       "  --sklearn-color-background: var(--sg-background-color, var(--theme-background, var(--jp-layout-color0, white)));\n",
       "  --sklearn-color-border-box: var(--sg-text-color, var(--theme-code-foreground, var(--jp-content-font-color1, black)));\n",
       "  --sklearn-color-icon: #696969;\n",
       "\n",
       "  @media (prefers-color-scheme: dark) {\n",
       "    /* Redefinition of color scheme for dark theme */\n",
       "    --sklearn-color-text-on-default-background: var(--sg-text-color, var(--theme-code-foreground, var(--jp-content-font-color1, white)));\n",
       "    --sklearn-color-background: var(--sg-background-color, var(--theme-background, var(--jp-layout-color0, #111)));\n",
       "    --sklearn-color-border-box: var(--sg-text-color, var(--theme-code-foreground, var(--jp-content-font-color1, white)));\n",
       "    --sklearn-color-icon: #878787;\n",
       "  }\n",
       "}\n",
       "\n",
       "#sk-container-id-3 {\n",
       "  color: var(--sklearn-color-text);\n",
       "}\n",
       "\n",
       "#sk-container-id-3 pre {\n",
       "  padding: 0;\n",
       "}\n",
       "\n",
       "#sk-container-id-3 input.sk-hidden--visually {\n",
       "  border: 0;\n",
       "  clip: rect(1px 1px 1px 1px);\n",
       "  clip: rect(1px, 1px, 1px, 1px);\n",
       "  height: 1px;\n",
       "  margin: -1px;\n",
       "  overflow: hidden;\n",
       "  padding: 0;\n",
       "  position: absolute;\n",
       "  width: 1px;\n",
       "}\n",
       "\n",
       "#sk-container-id-3 div.sk-dashed-wrapped {\n",
       "  border: 1px dashed var(--sklearn-color-line);\n",
       "  margin: 0 0.4em 0.5em 0.4em;\n",
       "  box-sizing: border-box;\n",
       "  padding-bottom: 0.4em;\n",
       "  background-color: var(--sklearn-color-background);\n",
       "}\n",
       "\n",
       "#sk-container-id-3 div.sk-container {\n",
       "  /* jupyter's `normalize.less` sets `[hidden] { display: none; }`\n",
       "     but bootstrap.min.css set `[hidden] { display: none !important; }`\n",
       "     so we also need the `!important` here to be able to override the\n",
       "     default hidden behavior on the sphinx rendered scikit-learn.org.\n",
       "     See: https://github.com/scikit-learn/scikit-learn/issues/21755 */\n",
       "  display: inline-block !important;\n",
       "  position: relative;\n",
       "}\n",
       "\n",
       "#sk-container-id-3 div.sk-text-repr-fallback {\n",
       "  display: none;\n",
       "}\n",
       "\n",
       "div.sk-parallel-item,\n",
       "div.sk-serial,\n",
       "div.sk-item {\n",
       "  /* draw centered vertical line to link estimators */\n",
       "  background-image: linear-gradient(var(--sklearn-color-text-on-default-background), var(--sklearn-color-text-on-default-background));\n",
       "  background-size: 2px 100%;\n",
       "  background-repeat: no-repeat;\n",
       "  background-position: center center;\n",
       "}\n",
       "\n",
       "/* Parallel-specific style estimator block */\n",
       "\n",
       "#sk-container-id-3 div.sk-parallel-item::after {\n",
       "  content: \"\";\n",
       "  width: 100%;\n",
       "  border-bottom: 2px solid var(--sklearn-color-text-on-default-background);\n",
       "  flex-grow: 1;\n",
       "}\n",
       "\n",
       "#sk-container-id-3 div.sk-parallel {\n",
       "  display: flex;\n",
       "  align-items: stretch;\n",
       "  justify-content: center;\n",
       "  background-color: var(--sklearn-color-background);\n",
       "  position: relative;\n",
       "}\n",
       "\n",
       "#sk-container-id-3 div.sk-parallel-item {\n",
       "  display: flex;\n",
       "  flex-direction: column;\n",
       "}\n",
       "\n",
       "#sk-container-id-3 div.sk-parallel-item:first-child::after {\n",
       "  align-self: flex-end;\n",
       "  width: 50%;\n",
       "}\n",
       "\n",
       "#sk-container-id-3 div.sk-parallel-item:last-child::after {\n",
       "  align-self: flex-start;\n",
       "  width: 50%;\n",
       "}\n",
       "\n",
       "#sk-container-id-3 div.sk-parallel-item:only-child::after {\n",
       "  width: 0;\n",
       "}\n",
       "\n",
       "/* Serial-specific style estimator block */\n",
       "\n",
       "#sk-container-id-3 div.sk-serial {\n",
       "  display: flex;\n",
       "  flex-direction: column;\n",
       "  align-items: center;\n",
       "  background-color: var(--sklearn-color-background);\n",
       "  padding-right: 1em;\n",
       "  padding-left: 1em;\n",
       "}\n",
       "\n",
       "\n",
       "/* Toggleable style: style used for estimator/Pipeline/ColumnTransformer box that is\n",
       "clickable and can be expanded/collapsed.\n",
       "- Pipeline and ColumnTransformer use this feature and define the default style\n",
       "- Estimators will overwrite some part of the style using the `sk-estimator` class\n",
       "*/\n",
       "\n",
       "/* Pipeline and ColumnTransformer style (default) */\n",
       "\n",
       "#sk-container-id-3 div.sk-toggleable {\n",
       "  /* Default theme specific background. It is overwritten whether we have a\n",
       "  specific estimator or a Pipeline/ColumnTransformer */\n",
       "  background-color: var(--sklearn-color-background);\n",
       "}\n",
       "\n",
       "/* Toggleable label */\n",
       "#sk-container-id-3 label.sk-toggleable__label {\n",
       "  cursor: pointer;\n",
       "  display: block;\n",
       "  width: 100%;\n",
       "  margin-bottom: 0;\n",
       "  padding: 0.5em;\n",
       "  box-sizing: border-box;\n",
       "  text-align: center;\n",
       "}\n",
       "\n",
       "#sk-container-id-3 label.sk-toggleable__label-arrow:before {\n",
       "  /* Arrow on the left of the label */\n",
       "  content: \"▸\";\n",
       "  float: left;\n",
       "  margin-right: 0.25em;\n",
       "  color: var(--sklearn-color-icon);\n",
       "}\n",
       "\n",
       "#sk-container-id-3 label.sk-toggleable__label-arrow:hover:before {\n",
       "  color: var(--sklearn-color-text);\n",
       "}\n",
       "\n",
       "/* Toggleable content - dropdown */\n",
       "\n",
       "#sk-container-id-3 div.sk-toggleable__content {\n",
       "  max-height: 0;\n",
       "  max-width: 0;\n",
       "  overflow: hidden;\n",
       "  text-align: left;\n",
       "  /* unfitted */\n",
       "  background-color: var(--sklearn-color-unfitted-level-0);\n",
       "}\n",
       "\n",
       "#sk-container-id-3 div.sk-toggleable__content.fitted {\n",
       "  /* fitted */\n",
       "  background-color: var(--sklearn-color-fitted-level-0);\n",
       "}\n",
       "\n",
       "#sk-container-id-3 div.sk-toggleable__content pre {\n",
       "  margin: 0.2em;\n",
       "  border-radius: 0.25em;\n",
       "  color: var(--sklearn-color-text);\n",
       "  /* unfitted */\n",
       "  background-color: var(--sklearn-color-unfitted-level-0);\n",
       "}\n",
       "\n",
       "#sk-container-id-3 div.sk-toggleable__content.fitted pre {\n",
       "  /* unfitted */\n",
       "  background-color: var(--sklearn-color-fitted-level-0);\n",
       "}\n",
       "\n",
       "#sk-container-id-3 input.sk-toggleable__control:checked~div.sk-toggleable__content {\n",
       "  /* Expand drop-down */\n",
       "  max-height: 200px;\n",
       "  max-width: 100%;\n",
       "  overflow: auto;\n",
       "}\n",
       "\n",
       "#sk-container-id-3 input.sk-toggleable__control:checked~label.sk-toggleable__label-arrow:before {\n",
       "  content: \"▾\";\n",
       "}\n",
       "\n",
       "/* Pipeline/ColumnTransformer-specific style */\n",
       "\n",
       "#sk-container-id-3 div.sk-label input.sk-toggleable__control:checked~label.sk-toggleable__label {\n",
       "  color: var(--sklearn-color-text);\n",
       "  background-color: var(--sklearn-color-unfitted-level-2);\n",
       "}\n",
       "\n",
       "#sk-container-id-3 div.sk-label.fitted input.sk-toggleable__control:checked~label.sk-toggleable__label {\n",
       "  background-color: var(--sklearn-color-fitted-level-2);\n",
       "}\n",
       "\n",
       "/* Estimator-specific style */\n",
       "\n",
       "/* Colorize estimator box */\n",
       "#sk-container-id-3 div.sk-estimator input.sk-toggleable__control:checked~label.sk-toggleable__label {\n",
       "  /* unfitted */\n",
       "  background-color: var(--sklearn-color-unfitted-level-2);\n",
       "}\n",
       "\n",
       "#sk-container-id-3 div.sk-estimator.fitted input.sk-toggleable__control:checked~label.sk-toggleable__label {\n",
       "  /* fitted */\n",
       "  background-color: var(--sklearn-color-fitted-level-2);\n",
       "}\n",
       "\n",
       "#sk-container-id-3 div.sk-label label.sk-toggleable__label,\n",
       "#sk-container-id-3 div.sk-label label {\n",
       "  /* The background is the default theme color */\n",
       "  color: var(--sklearn-color-text-on-default-background);\n",
       "}\n",
       "\n",
       "/* On hover, darken the color of the background */\n",
       "#sk-container-id-3 div.sk-label:hover label.sk-toggleable__label {\n",
       "  color: var(--sklearn-color-text);\n",
       "  background-color: var(--sklearn-color-unfitted-level-2);\n",
       "}\n",
       "\n",
       "/* Label box, darken color on hover, fitted */\n",
       "#sk-container-id-3 div.sk-label.fitted:hover label.sk-toggleable__label.fitted {\n",
       "  color: var(--sklearn-color-text);\n",
       "  background-color: var(--sklearn-color-fitted-level-2);\n",
       "}\n",
       "\n",
       "/* Estimator label */\n",
       "\n",
       "#sk-container-id-3 div.sk-label label {\n",
       "  font-family: monospace;\n",
       "  font-weight: bold;\n",
       "  display: inline-block;\n",
       "  line-height: 1.2em;\n",
       "}\n",
       "\n",
       "#sk-container-id-3 div.sk-label-container {\n",
       "  text-align: center;\n",
       "}\n",
       "\n",
       "/* Estimator-specific */\n",
       "#sk-container-id-3 div.sk-estimator {\n",
       "  font-family: monospace;\n",
       "  border: 1px dotted var(--sklearn-color-border-box);\n",
       "  border-radius: 0.25em;\n",
       "  box-sizing: border-box;\n",
       "  margin-bottom: 0.5em;\n",
       "  /* unfitted */\n",
       "  background-color: var(--sklearn-color-unfitted-level-0);\n",
       "}\n",
       "\n",
       "#sk-container-id-3 div.sk-estimator.fitted {\n",
       "  /* fitted */\n",
       "  background-color: var(--sklearn-color-fitted-level-0);\n",
       "}\n",
       "\n",
       "/* on hover */\n",
       "#sk-container-id-3 div.sk-estimator:hover {\n",
       "  /* unfitted */\n",
       "  background-color: var(--sklearn-color-unfitted-level-2);\n",
       "}\n",
       "\n",
       "#sk-container-id-3 div.sk-estimator.fitted:hover {\n",
       "  /* fitted */\n",
       "  background-color: var(--sklearn-color-fitted-level-2);\n",
       "}\n",
       "\n",
       "/* Specification for estimator info (e.g. \"i\" and \"?\") */\n",
       "\n",
       "/* Common style for \"i\" and \"?\" */\n",
       "\n",
       ".sk-estimator-doc-link,\n",
       "a:link.sk-estimator-doc-link,\n",
       "a:visited.sk-estimator-doc-link {\n",
       "  float: right;\n",
       "  font-size: smaller;\n",
       "  line-height: 1em;\n",
       "  font-family: monospace;\n",
       "  background-color: var(--sklearn-color-background);\n",
       "  border-radius: 1em;\n",
       "  height: 1em;\n",
       "  width: 1em;\n",
       "  text-decoration: none !important;\n",
       "  margin-left: 1ex;\n",
       "  /* unfitted */\n",
       "  border: var(--sklearn-color-unfitted-level-1) 1pt solid;\n",
       "  color: var(--sklearn-color-unfitted-level-1);\n",
       "}\n",
       "\n",
       ".sk-estimator-doc-link.fitted,\n",
       "a:link.sk-estimator-doc-link.fitted,\n",
       "a:visited.sk-estimator-doc-link.fitted {\n",
       "  /* fitted */\n",
       "  border: var(--sklearn-color-fitted-level-1) 1pt solid;\n",
       "  color: var(--sklearn-color-fitted-level-1);\n",
       "}\n",
       "\n",
       "/* On hover */\n",
       "div.sk-estimator:hover .sk-estimator-doc-link:hover,\n",
       ".sk-estimator-doc-link:hover,\n",
       "div.sk-label-container:hover .sk-estimator-doc-link:hover,\n",
       ".sk-estimator-doc-link:hover {\n",
       "  /* unfitted */\n",
       "  background-color: var(--sklearn-color-unfitted-level-3);\n",
       "  color: var(--sklearn-color-background);\n",
       "  text-decoration: none;\n",
       "}\n",
       "\n",
       "div.sk-estimator.fitted:hover .sk-estimator-doc-link.fitted:hover,\n",
       ".sk-estimator-doc-link.fitted:hover,\n",
       "div.sk-label-container:hover .sk-estimator-doc-link.fitted:hover,\n",
       ".sk-estimator-doc-link.fitted:hover {\n",
       "  /* fitted */\n",
       "  background-color: var(--sklearn-color-fitted-level-3);\n",
       "  color: var(--sklearn-color-background);\n",
       "  text-decoration: none;\n",
       "}\n",
       "\n",
       "/* Span, style for the box shown on hovering the info icon */\n",
       ".sk-estimator-doc-link span {\n",
       "  display: none;\n",
       "  z-index: 9999;\n",
       "  position: relative;\n",
       "  font-weight: normal;\n",
       "  right: .2ex;\n",
       "  padding: .5ex;\n",
       "  margin: .5ex;\n",
       "  width: min-content;\n",
       "  min-width: 20ex;\n",
       "  max-width: 50ex;\n",
       "  color: var(--sklearn-color-text);\n",
       "  box-shadow: 2pt 2pt 4pt #999;\n",
       "  /* unfitted */\n",
       "  background: var(--sklearn-color-unfitted-level-0);\n",
       "  border: .5pt solid var(--sklearn-color-unfitted-level-3);\n",
       "}\n",
       "\n",
       ".sk-estimator-doc-link.fitted span {\n",
       "  /* fitted */\n",
       "  background: var(--sklearn-color-fitted-level-0);\n",
       "  border: var(--sklearn-color-fitted-level-3);\n",
       "}\n",
       "\n",
       ".sk-estimator-doc-link:hover span {\n",
       "  display: block;\n",
       "}\n",
       "\n",
       "/* \"?\"-specific style due to the `<a>` HTML tag */\n",
       "\n",
       "#sk-container-id-3 a.estimator_doc_link {\n",
       "  float: right;\n",
       "  font-size: 1rem;\n",
       "  line-height: 1em;\n",
       "  font-family: monospace;\n",
       "  background-color: var(--sklearn-color-background);\n",
       "  border-radius: 1rem;\n",
       "  height: 1rem;\n",
       "  width: 1rem;\n",
       "  text-decoration: none;\n",
       "  /* unfitted */\n",
       "  color: var(--sklearn-color-unfitted-level-1);\n",
       "  border: var(--sklearn-color-unfitted-level-1) 1pt solid;\n",
       "}\n",
       "\n",
       "#sk-container-id-3 a.estimator_doc_link.fitted {\n",
       "  /* fitted */\n",
       "  border: var(--sklearn-color-fitted-level-1) 1pt solid;\n",
       "  color: var(--sklearn-color-fitted-level-1);\n",
       "}\n",
       "\n",
       "/* On hover */\n",
       "#sk-container-id-3 a.estimator_doc_link:hover {\n",
       "  /* unfitted */\n",
       "  background-color: var(--sklearn-color-unfitted-level-3);\n",
       "  color: var(--sklearn-color-background);\n",
       "  text-decoration: none;\n",
       "}\n",
       "\n",
       "#sk-container-id-3 a.estimator_doc_link.fitted:hover {\n",
       "  /* fitted */\n",
       "  background-color: var(--sklearn-color-fitted-level-3);\n",
       "}\n",
       "</style><div id=\"sk-container-id-3\" class=\"sk-top-container\"><div class=\"sk-text-repr-fallback\"><pre>RandomForestClassifier(n_estimators=500, random_state=42)</pre><b>In a Jupyter environment, please rerun this cell to show the HTML representation or trust the notebook. <br />On GitHub, the HTML representation is unable to render, please try loading this page with nbviewer.org.</b></div><div class=\"sk-container\" hidden><div class=\"sk-item\"><div class=\"sk-estimator fitted sk-toggleable\"><input class=\"sk-toggleable__control sk-hidden--visually\" id=\"sk-estimator-id-3\" type=\"checkbox\" checked><label for=\"sk-estimator-id-3\" class=\"sk-toggleable__label fitted sk-toggleable__label-arrow fitted\">&nbsp;&nbsp;RandomForestClassifier<a class=\"sk-estimator-doc-link fitted\" rel=\"noreferrer\" target=\"_blank\" href=\"https://scikit-learn.org/1.4/modules/generated/sklearn.ensemble.RandomForestClassifier.html\">?<span>Documentation for RandomForestClassifier</span></a><span class=\"sk-estimator-doc-link fitted\">i<span>Fitted</span></span></label><div class=\"sk-toggleable__content fitted\"><pre>RandomForestClassifier(n_estimators=500, random_state=42)</pre></div> </div></div></div></div>"
      ],
      "text/plain": [
       "RandomForestClassifier(n_estimators=500, random_state=42)"
      ]
     },
     "execution_count": 123,
     "metadata": {},
     "output_type": "execute_result"
    }
   ],
   "source": [
    "# Initialize the Random Forest model\n",
    "rf = RandomForestClassifier(n_estimators=500, random_state=42)\n",
    "\n",
    "# Train the model\n",
    "rf.fit(X_rf_train, y_rf_train)"
   ]
  },
  {
   "cell_type": "code",
   "execution_count": 124,
   "id": "ed289097-7610-4388-bfbc-a4d40391872a",
   "metadata": {},
   "outputs": [],
   "source": [
    "#predictions\n",
    "y_rf_pred = rf.predict(X_rf_test)"
   ]
  },
  {
   "cell_type": "code",
   "execution_count": 125,
   "id": "2afd6dc4-5425-4bc5-af0f-aaa3092283a4",
   "metadata": {},
   "outputs": [
    {
     "name": "stdout",
     "output_type": "stream",
     "text": [
      "Accuracy: 0.7984386089425124\n",
      "Confusion Matrix:\n",
      " [[947  89]\n",
      " [195 178]]\n",
      "Classification Report:\n",
      "               precision    recall  f1-score   support\n",
      "\n",
      "       False       0.83      0.91      0.87      1036\n",
      "        True       0.67      0.48      0.56       373\n",
      "\n",
      "    accuracy                           0.80      1409\n",
      "   macro avg       0.75      0.70      0.71      1409\n",
      "weighted avg       0.79      0.80      0.79      1409\n",
      "\n"
     ]
    }
   ],
   "source": [
    "# Accuracy\n",
    "print(\"Accuracy:\", accuracy_score(y_rf_test, y_rf_pred))\n",
    "\n",
    "# Confusion Matrix\n",
    "print(\"Confusion Matrix:\\n\", confusion_matrix(y_rf_test, y_rf_pred))\n",
    "\n",
    "# Classification Report\n",
    "print(\"Classification Report:\\n\", classification_report(y_rf_test, y_rf_pred))"
   ]
  },
  {
   "cell_type": "code",
   "execution_count": 126,
   "id": "cdb8da24-ff4c-4e14-b6ad-a61dae7289ea",
   "metadata": {},
   "outputs": [
    {
     "data": {
      "image/png": "[encoded data removed]",
      "text/plain": [
       "<Figure size 640x480 with 1 Axes>"
      ]
     },
     "metadata": {},
     "output_type": "display_data"
    }
   ],
   "source": [
    "# ROC Curve\n",
    "y_rf_pred_prob = rf.predict_proba(X_rf_test)[:, 1]\n",
    "fpr_rf, tpr_rf, thresholds_rf = roc_curve(y_rf_test, y_rf_pred_prob)\n",
    "roc_auc_rf = auc(fpr_rf, tpr_rf)\n",
    "\n",
    "plt.figure()\n",
    "plt.plot(fpr_rf, tpr_rf, color='darkorange', lw=2, label='ROC curve (area = %0.2f)' % roc_auc_rf)\n",
    "plt.plot([0, 1], [0, 1], color='navy', lw=2, linestyle='--')\n",
    "plt.xlabel('False Positive Rate')\n",
    "plt.ylabel('True Positive Rate')\n",
    "plt.title('Receiver Operating Characteristic')\n",
    "plt.legend(loc=\"lower right\")\n",
    "plt.show()"
   ]
  },
  {
   "cell_type": "code",
   "execution_count": 127,
   "id": "ff96022c-5eff-489b-b5c3-cca9b6e912ec",
   "metadata": {},
   "outputs": [],
   "source": [
    "#log reg is the best model after tuning"
   ]
  },
  {
   "cell_type": "code",
   "execution_count": 128,
   "id": "b33b2765-c903-4abc-8b8d-054e8609eb36",
   "metadata": {},
   "outputs": [
    {
     "data": {
      "text/plain": [
       "['churn_logreg.pkl']"
      ]
     },
     "execution_count": 128,
     "metadata": {},
     "output_type": "execute_result"
    }
   ],
   "source": [
    "#save logreg\n",
    "joblib.dump(logreg, 'churn_logreg.pkl')"
   ]
  },
  {
   "cell_type": "code",
   "execution_count": null,
   "id": "4c4d5e02-0c7b-457e-8225-6f9433523afa",
   "metadata": {},
   "outputs": [],
   "source": []
  }
 ],
 "metadata": {
  "kernelspec": {
   "display_name": "Python 3 (ipykernel)",
   "language": "python",
   "name": "python3"
  },
  "language_info": {
   "codemirror_mode": {
    "name": "ipython",
    "version": 3
   },
   "file_extension": ".py",
   "mimetype": "text/x-python",
   "name": "python",
   "nbconvert_exporter": "python",
   "pygments_lexer": "ipython3",
   "version": "3.12.4"
  }
 },
 "nbformat": 4,
 "nbformat_minor": 5
}
