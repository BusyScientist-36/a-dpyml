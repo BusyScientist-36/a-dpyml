{
 "cells": [
  {
   "cell_type": "code",
   "execution_count": 1,
   "id": "3237ce7a-efd5-4784-840e-638770db6d12",
   "metadata": {},
   "outputs": [],
   "source": [
    "#week5.1"
   ]
  },
  {
   "cell_type": "code",
   "execution_count": 2,
   "id": "8b80e9e6-ae82-42c9-af5e-4da1517006d3",
   "metadata": {},
   "outputs": [],
   "source": [
    "#import necessary libraries\n",
    "#pandas for dataset management\n",
    "import pandas as pd\n",
    "#matplotlib and seaborn for plots\n",
    "import seaborn as sns\n",
    "import matplotlib.pyplot as plt\n",
    "#import tensorflow for neural network training\n",
    "import tensorflow as tf\n",
    "import tensorflow_datasets as tfds\n",
    "from tensorflow.keras import layers, models\n",
    "from tensorflow.keras.models import load_model\n",
    "from tensorflow.keras.utils import to_categorical\n",
    "from tensorflow.keras.preprocessing.image import ImageDataGenerator\n",
    "from tensorflow.keras.callbacks import ModelCheckpoint, EarlyStopping\n",
    "#Sklearn for model evaluation\n",
    "from sklearn.metrics import confusion_matrix, classification_report, ConfusionMatrixDisplay\n",
    "#numpy\n",
    "import numpy as np"
   ]
  },
  {
   "cell_type": "code",
   "execution_count": 3,
   "id": "24ad6bdc-50cd-44eb-b3e2-14f0bf9037a0",
   "metadata": {},
   "outputs": [],
   "source": [
    "#importing the dataset, cifar10\n",
    "from tensorflow.keras.datasets import cifar10\n",
    "#consists of 60,000 32x32 color images in 10 different classes, with 6,000 images per class."
   ]
  },
  {
   "cell_type": "code",
   "execution_count": 4,
   "id": "e961b70b-ed47-440e-8665-3d5155425a06",
   "metadata": {},
   "outputs": [],
   "source": [
    "#load the dataset\n",
    "(train_images, train_labels), (test_images, test_labels) = cifar10.load_data()"
   ]
  },
  {
   "cell_type": "code",
   "execution_count": 5,
   "id": "1ee4a84c-5091-4909-af9f-e157af5e7f01",
   "metadata": {},
   "outputs": [],
   "source": [
    "#dataset inspection and preprocessing"
   ]
  },
  {
   "cell_type": "code",
   "execution_count": 6,
   "id": "137ef327-d4bc-4c1f-ae1f-50303c50fdca",
   "metadata": {},
   "outputs": [
    {
     "name": "stdout",
     "output_type": "stream",
     "text": [
      "Train images range: 0 to 255\n",
      "Test images range: 0 to 255\n"
     ]
    }
   ],
   "source": [
    "# Check the range of values\n",
    "print(f\"Train images range: {train_images.min()} to {train_images.max()}\")\n",
    "print(f\"Test images range: {test_images.min()} to {test_images.max()}\")"
   ]
  },
  {
   "cell_type": "code",
   "execution_count": 7,
   "id": "cd9edb61-d7be-40d6-bc53-b4edf1925f74",
   "metadata": {},
   "outputs": [],
   "source": [
    "#normalize the dataset to the range [0,1] to ensure efficient model training\n",
    "train_images = train_images.astype('float32') / 255.0\n",
    "test_images = test_images.astype('float32') / 255.0"
   ]
  },
  {
   "cell_type": "code",
   "execution_count": 8,
   "id": "7314367e-2cdc-4a0d-8876-643aebbf5b5a",
   "metadata": {},
   "outputs": [
    {
     "name": "stdout",
     "output_type": "stream",
     "text": [
      "Train images range: 0.0 to 1.0\n",
      "Test images range: 0.0 to 1.0\n"
     ]
    }
   ],
   "source": [
    "# Check the range of values again\n",
    "print(f\"Train images range: {train_images.min()} to {train_images.max()}\")\n",
    "print(f\"Test images range: {test_images.min()} to {test_images.max()}\")"
   ]
  },
  {
   "cell_type": "code",
   "execution_count": 9,
   "id": "ecce5b7f-75c3-479d-adf0-a5da2ae04a3f",
   "metadata": {},
   "outputs": [
    {
     "name": "stdout",
     "output_type": "stream",
     "text": [
      "Training images shape: (50000, 32, 32, 3)\n",
      "Training labels shape: (50000, 1)\n",
      "Testing images shape: (10000, 32, 32, 3)\n",
      "Testing labels shape: (10000, 1)\n"
     ]
    }
   ],
   "source": [
    "#viewing dataset shapes\n",
    "print(\"Training images shape:\", train_images.shape)\n",
    "print(\"Training labels shape:\", train_labels.shape)\n",
    "print(\"Testing images shape:\", test_images.shape)\n",
    "print(\"Testing labels shape:\", test_labels.shape)"
   ]
  },
  {
   "cell_type": "code",
   "execution_count": 10,
   "id": "69fcedbe-8ba6-40ab-a379-b6667923d28e",
   "metadata": {},
   "outputs": [
    {
     "name": "stdout",
     "output_type": "stream",
     "text": [
      "Train labels sample: [[6]\n",
      " [9]\n",
      " [9]\n",
      " [4]\n",
      " [1]]\n"
     ]
    }
   ],
   "source": [
    "#looking at the first 5 labels sample\n",
    "print(f\"Train labels sample: {train_labels[:5]}\")"
   ]
  },
  {
   "cell_type": "code",
   "execution_count": 11,
   "id": "379bde11-ec86-4d38-8ed9-904005dabbc0",
   "metadata": {},
   "outputs": [],
   "source": [
    "#the labels are not binary, using 1 hot encoding"
   ]
  },
  {
   "cell_type": "code",
   "execution_count": 12,
   "id": "110c2b6b-0d7e-4d31-bc7e-cac48d22e670",
   "metadata": {},
   "outputs": [],
   "source": [
    "# Define number of classes to encode\n",
    "num_classes = 10\n",
    "# One-hot encode the labels\n",
    "train_labels = to_categorical(train_labels, num_classes)\n",
    "test_labels = to_categorical(test_labels, num_classes)"
   ]
  },
  {
   "cell_type": "code",
   "execution_count": 13,
   "id": "5ed3f453-ac4a-45d6-800f-c0aa8590e98c",
   "metadata": {},
   "outputs": [
    {
     "name": "stdout",
     "output_type": "stream",
     "text": [
      "Train labels sample: [[0. 0. 0. 0. 0. 0. 1. 0. 0. 0.]\n",
      " [0. 0. 0. 0. 0. 0. 0. 0. 0. 1.]\n",
      " [0. 0. 0. 0. 0. 0. 0. 0. 0. 1.]\n",
      " [0. 0. 0. 0. 1. 0. 0. 0. 0. 0.]\n",
      " [0. 1. 0. 0. 0. 0. 0. 0. 0. 0.]]\n"
     ]
    }
   ],
   "source": [
    "#looking at the first 5 labels sample again\n",
    "print(f\"Train labels sample: {train_labels[:5]}\")"
   ]
  },
  {
   "cell_type": "code",
   "execution_count": 14,
   "id": "7af79313-a896-4b22-8fc6-447ba279ecf6",
   "metadata": {},
   "outputs": [],
   "source": [
    "#the labels are now binary"
   ]
  },
  {
   "cell_type": "code",
   "execution_count": 15,
   "id": "c45468b8-82d0-4774-8a49-8ed43ae743e1",
   "metadata": {},
   "outputs": [],
   "source": [
    "# Create an instance of ImageDataGenerator with augmentation options\n",
    "datagen = ImageDataGenerator(\n",
    "    rotation_range=15,\n",
    "    width_shift_range=0.1,\n",
    "    height_shift_range=0.1,\n",
    "    horizontal_flip=True\n",
    ")\n",
    "#produce rotation, width, height and orientation shifts in the images to increase diversity and improve model performance"
   ]
  },
  {
   "cell_type": "code",
   "execution_count": 16,
   "id": "d7659ce3-5398-48ba-87d1-b41c22ee83a6",
   "metadata": {},
   "outputs": [],
   "source": [
    "# Fit the ImageDataGenerator to the training data\n",
    "datagen.fit(train_images)"
   ]
  },
  {
   "cell_type": "code",
   "execution_count": 17,
   "id": "fd79b2ad-7d7a-4cbf-b7b1-ed39e4a10102",
   "metadata": {},
   "outputs": [],
   "source": [
    "#model creation"
   ]
  },
  {
   "cell_type": "code",
   "execution_count": 18,
   "id": "03fbdaa6-b323-4e27-ac6d-99c20613b69f",
   "metadata": {},
   "outputs": [],
   "source": [
    "#3 convolutional and pooling layers with batch normalization and dropout\n",
    "def create_cnn_model(input_shape, num_classes):\n",
    "    model = models.Sequential()\n",
    "\n",
    "    # First convolutional layer\n",
    "    model.add(layers.Conv2D(32, (3, 3), activation='relu', input_shape=input_shape))\n",
    "    model.add(layers.BatchNormalization())\n",
    "    model.add(layers.MaxPooling2D((2, 2)))\n",
    "    model.add(layers.Dropout(0.25))\n",
    "\n",
    "    # Second convolutional layer\n",
    "    model.add(layers.Conv2D(64, (3, 3), activation='relu'))\n",
    "    model.add(layers.BatchNormalization())\n",
    "    model.add(layers.MaxPooling2D((2, 2)))\n",
    "    model.add(layers.Dropout(0.25))\n",
    "\n",
    "    # Third convolutional layer\n",
    "    model.add(layers.Conv2D(64, (3, 3), activation='relu'))\n",
    "    model.add(layers.BatchNormalization())\n",
    "    model.add(layers.MaxPooling2D((2, 2)))\n",
    "    model.add(layers.Dropout(0.25))\n",
    "\n",
    "    # Flattening the output\n",
    "    model.add(layers.Flatten())\n",
    "\n",
    "    # Fully connected layers\n",
    "    model.add(layers.Dense(64, activation='relu'))\n",
    "    model.add(layers.BatchNormalization())\n",
    "    model.add(layers.Dropout(0.5))\n",
    "    model.add(layers.Dense(num_classes, activation='softmax'))\n",
    "\n",
    "    return model"
   ]
  },
  {
   "cell_type": "code",
   "execution_count": 19,
   "id": "032eef1c-59e8-4c46-9392-5b5400d514ca",
   "metadata": {},
   "outputs": [],
   "source": [
    "#Dropout helps reduce overfitting\n",
    "#Batch Normalization helps stabilize and accelerate training\n",
    "#both of them improve model performance"
   ]
  },
  {
   "cell_type": "code",
   "execution_count": 20,
   "id": "97842774-41e7-441c-a651-4102902f29fe",
   "metadata": {},
   "outputs": [],
   "source": [
    "#input shape for CIFAR-10\n",
    "input_shape = (32, 32, 3)"
   ]
  },
  {
   "cell_type": "code",
   "execution_count": 62,
   "id": "9bcf4eae-3782-4939-a3e3-e52fcb42aae2",
   "metadata": {},
   "outputs": [
    {
     "name": "stderr",
     "output_type": "stream",
     "text": [
      "D:\\Apps\\Anaconda\\Lib\\site-packages\\keras\\src\\layers\\convolutional\\base_conv.py:107: UserWarning: Do not pass an `input_shape`/`input_dim` argument to a layer. When using Sequential models, prefer using an `Input(shape)` object as the first layer in the model instead.\n",
      "  super().__init__(activity_regularizer=activity_regularizer, **kwargs)\n"
     ]
    }
   ],
   "source": [
    "#create the model\n",
    "model = create_cnn_model(input_shape, num_classes)"
   ]
  },
  {
   "cell_type": "code",
   "execution_count": 22,
   "id": "dc9d1270-1652-4736-8e78-4cd29a34c871",
   "metadata": {},
   "outputs": [],
   "source": [
    "#compile the model, using the adam optimizer and the CategoricalCrossentropy loss function\n",
    "model.compile(optimizer='adam',loss='categorical_crossentropy',metrics=['accuracy'])"
   ]
  },
  {
   "cell_type": "code",
   "execution_count": 23,
   "id": "044f006d-c98b-4d50-95c7-96b10c7bfb1b",
   "metadata": {},
   "outputs": [],
   "source": [
    "#model training"
   ]
  },
  {
   "cell_type": "code",
   "execution_count": 24,
   "id": "3ffc3bba-d601-40e5-a364-ef3f1ede801d",
   "metadata": {},
   "outputs": [],
   "source": [
    "# Define the callbacks\n",
    "#Model Checkpoint, saves the best model at intervals during training to save model progress/backups in case of training failure\n",
    "checkpoint_callback = ModelCheckpoint(\n",
    "    filepath='best_model.keras',  # Filepath to save the model\n",
    "    monitor='val_accuracy',    # Metric to monitor\n",
    "    save_best_only=True,       # Only save the model if `val_accuracy` improves\n",
    "    mode='max',                # We want to maximize `val_accuracy`\n",
    "    verbose=1\n",
    ")\n",
    "\n",
    "#Early Stopping, saves time and resource by halting the training process when the model has stopped improving\n",
    "early_stopping_callback = EarlyStopping(\n",
    "    monitor='val_loss',  # Metric to monitor\n",
    "    patience=5,          # Number of epochs with no improvement after which training will be stopped\n",
    "    mode='min',          # We want to minimize `val_loss`\n",
    "    restore_best_weights=True,  # Restores model weights from the epoch with the best value of the monitored quantity\n",
    "    verbose=1\n",
    ")"
   ]
  },
  {
   "cell_type": "code",
   "execution_count": 25,
   "id": "f476ecc6-be41-45e5-8bd0-5b3b931d9333",
   "metadata": {},
   "outputs": [
    {
     "name": "stdout",
     "output_type": "stream",
     "text": [
      "Epoch 1/50\n",
      "\u001b[1m  5/782\u001b[0m \u001b[37m━━━━━━━━━━━━━━━━━━━━\u001b[0m \u001b[1m11s\u001b[0m 15ms/step - accuracy: 0.1455 - loss: 3.2806"
     ]
    },
    {
     "name": "stderr",
     "output_type": "stream",
     "text": [
      "D:\\Apps\\Anaconda\\Lib\\site-packages\\keras\\src\\trainers\\data_adapters\\py_dataset_adapter.py:121: UserWarning: Your `PyDataset` class should call `super().__init__(**kwargs)` in its constructor. `**kwargs` can include `workers`, `use_multiprocessing`, `max_queue_size`. Do not pass these arguments to `fit()`, as they will be ignored.\n",
      "  self._warn_if_super_not_called()\n"
     ]
    },
    {
     "name": "stdout",
     "output_type": "stream",
     "text": [
      "\u001b[1m782/782\u001b[0m \u001b[32m━━━━━━━━━━━━━━━━━━━━\u001b[0m\u001b[37m\u001b[0m \u001b[1m0s\u001b[0m 20ms/step - accuracy: 0.2570 - loss: 2.3172\n",
      "Epoch 1: val_accuracy improved from -inf to 0.45760, saving model to best_model.keras\n",
      "\u001b[1m782/782\u001b[0m \u001b[32m━━━━━━━━━━━━━━━━━━━━\u001b[0m\u001b[37m\u001b[0m \u001b[1m18s\u001b[0m 21ms/step - accuracy: 0.2571 - loss: 2.3167 - val_accuracy: 0.4576 - val_loss: 1.4735\n",
      "Epoch 2/50\n",
      "\u001b[1m780/782\u001b[0m \u001b[32m━━━━━━━━━━━━━━━━━━━\u001b[0m\u001b[37m━\u001b[0m \u001b[1m0s\u001b[0m 20ms/step - accuracy: 0.4149 - loss: 1.5988\n",
      "Epoch 2: val_accuracy improved from 0.45760 to 0.47210, saving model to best_model.keras\n",
      "\u001b[1m782/782\u001b[0m \u001b[32m━━━━━━━━━━━━━━━━━━━━\u001b[0m\u001b[37m\u001b[0m \u001b[1m17s\u001b[0m 21ms/step - accuracy: 0.4149 - loss: 1.5987 - val_accuracy: 0.4721 - val_loss: 1.4416\n",
      "Epoch 3/50\n",
      "\u001b[1m778/782\u001b[0m \u001b[32m━━━━━━━━━━━━━━━━━━━\u001b[0m\u001b[37m━\u001b[0m \u001b[1m0s\u001b[0m 20ms/step - accuracy: 0.4731 - loss: 1.4564\n",
      "Epoch 3: val_accuracy improved from 0.47210 to 0.51270, saving model to best_model.keras\n",
      "\u001b[1m782/782\u001b[0m \u001b[32m━━━━━━━━━━━━━━━━━━━━\u001b[0m\u001b[37m\u001b[0m \u001b[1m17s\u001b[0m 21ms/step - accuracy: 0.4731 - loss: 1.4562 - val_accuracy: 0.5127 - val_loss: 1.3788\n",
      "Epoch 4/50\n",
      "\u001b[1m780/782\u001b[0m \u001b[32m━━━━━━━━━━━━━━━━━━━\u001b[0m\u001b[37m━\u001b[0m \u001b[1m0s\u001b[0m 20ms/step - accuracy: 0.5085 - loss: 1.3705\n",
      "Epoch 4: val_accuracy did not improve from 0.51270\n",
      "\u001b[1m782/782\u001b[0m \u001b[32m━━━━━━━━━━━━━━━━━━━━\u001b[0m\u001b[37m\u001b[0m \u001b[1m16s\u001b[0m 21ms/step - accuracy: 0.5085 - loss: 1.3704 - val_accuracy: 0.4732 - val_loss: 1.4763\n",
      "Epoch 5/50\n",
      "\u001b[1m781/782\u001b[0m \u001b[32m━━━━━━━━━━━━━━━━━━━\u001b[0m\u001b[37m━\u001b[0m \u001b[1m0s\u001b[0m 20ms/step - accuracy: 0.5286 - loss: 1.3179\n",
      "Epoch 5: val_accuracy did not improve from 0.51270\n",
      "\u001b[1m782/782\u001b[0m \u001b[32m━━━━━━━━━━━━━━━━━━━━\u001b[0m\u001b[37m\u001b[0m \u001b[1m16s\u001b[0m 20ms/step - accuracy: 0.5286 - loss: 1.3178 - val_accuracy: 0.4954 - val_loss: 1.4914\n",
      "Epoch 6/50\n",
      "\u001b[1m780/782\u001b[0m \u001b[32m━━━━━━━━━━━━━━━━━━━\u001b[0m\u001b[37m━\u001b[0m \u001b[1m0s\u001b[0m 20ms/step - accuracy: 0.5511 - loss: 1.2660\n",
      "Epoch 6: val_accuracy improved from 0.51270 to 0.56860, saving model to best_model.keras\n",
      "\u001b[1m782/782\u001b[0m \u001b[32m━━━━━━━━━━━━━━━━━━━━\u001b[0m\u001b[37m\u001b[0m \u001b[1m16s\u001b[0m 21ms/step - accuracy: 0.5512 - loss: 1.2659 - val_accuracy: 0.5686 - val_loss: 1.1750\n",
      "Epoch 7/50\n",
      "\u001b[1m780/782\u001b[0m \u001b[32m━━━━━━━━━━━━━━━━━━━\u001b[0m\u001b[37m━\u001b[0m \u001b[1m0s\u001b[0m 20ms/step - accuracy: 0.5735 - loss: 1.2167\n",
      "Epoch 7: val_accuracy improved from 0.56860 to 0.59430, saving model to best_model.keras\n",
      "\u001b[1m782/782\u001b[0m \u001b[32m━━━━━━━━━━━━━━━━━━━━\u001b[0m\u001b[37m\u001b[0m \u001b[1m16s\u001b[0m 21ms/step - accuracy: 0.5735 - loss: 1.2167 - val_accuracy: 0.5943 - val_loss: 1.1543\n",
      "Epoch 8/50\n",
      "\u001b[1m781/782\u001b[0m \u001b[32m━━━━━━━━━━━━━━━━━━━\u001b[0m\u001b[37m━\u001b[0m \u001b[1m0s\u001b[0m 20ms/step - accuracy: 0.5806 - loss: 1.1931\n",
      "Epoch 8: val_accuracy improved from 0.59430 to 0.60010, saving model to best_model.keras\n",
      "\u001b[1m782/782\u001b[0m \u001b[32m━━━━━━━━━━━━━━━━━━━━\u001b[0m\u001b[37m\u001b[0m \u001b[1m16s\u001b[0m 21ms/step - accuracy: 0.5806 - loss: 1.1930 - val_accuracy: 0.6001 - val_loss: 1.1427\n",
      "Epoch 9/50\n",
      "\u001b[1m781/782\u001b[0m \u001b[32m━━━━━━━━━━━━━━━━━━━\u001b[0m\u001b[37m━\u001b[0m \u001b[1m0s\u001b[0m 20ms/step - accuracy: 0.5923 - loss: 1.1661\n",
      "Epoch 9: val_accuracy did not improve from 0.60010\n",
      "\u001b[1m782/782\u001b[0m \u001b[32m━━━━━━━━━━━━━━━━━━━━\u001b[0m\u001b[37m\u001b[0m \u001b[1m16s\u001b[0m 20ms/step - accuracy: 0.5923 - loss: 1.1661 - val_accuracy: 0.5711 - val_loss: 1.1780\n",
      "Epoch 10/50\n",
      "\u001b[1m781/782\u001b[0m \u001b[32m━━━━━━━━━━━━━━━━━━━\u001b[0m\u001b[37m━\u001b[0m \u001b[1m0s\u001b[0m 20ms/step - accuracy: 0.5973 - loss: 1.1534\n",
      "Epoch 10: val_accuracy improved from 0.60010 to 0.69510, saving model to best_model.keras\n",
      "\u001b[1m782/782\u001b[0m \u001b[32m━━━━━━━━━━━━━━━━━━━━\u001b[0m\u001b[37m\u001b[0m \u001b[1m16s\u001b[0m 21ms/step - accuracy: 0.5974 - loss: 1.1534 - val_accuracy: 0.6951 - val_loss: 0.8705\n",
      "Epoch 11/50\n",
      "\u001b[1m780/782\u001b[0m \u001b[32m━━━━━━━━━━━━━━━━━━━\u001b[0m\u001b[37m━\u001b[0m \u001b[1m0s\u001b[0m 20ms/step - accuracy: 0.6113 - loss: 1.1253\n",
      "Epoch 11: val_accuracy did not improve from 0.69510\n",
      "\u001b[1m782/782\u001b[0m \u001b[32m━━━━━━━━━━━━━━━━━━━━\u001b[0m\u001b[37m\u001b[0m \u001b[1m17s\u001b[0m 21ms/step - accuracy: 0.6113 - loss: 1.1253 - val_accuracy: 0.6790 - val_loss: 0.9132\n",
      "Epoch 12/50\n",
      "\u001b[1m778/782\u001b[0m \u001b[32m━━━━━━━━━━━━━━━━━━━\u001b[0m\u001b[37m━\u001b[0m \u001b[1m0s\u001b[0m 20ms/step - accuracy: 0.6123 - loss: 1.1137\n",
      "Epoch 12: val_accuracy did not improve from 0.69510\n",
      "\u001b[1m782/782\u001b[0m \u001b[32m━━━━━━━━━━━━━━━━━━━━\u001b[0m\u001b[37m\u001b[0m \u001b[1m16s\u001b[0m 21ms/step - accuracy: 0.6123 - loss: 1.1137 - val_accuracy: 0.6815 - val_loss: 0.9049\n",
      "Epoch 13/50\n",
      "\u001b[1m780/782\u001b[0m \u001b[32m━━━━━━━━━━━━━━━━━━━\u001b[0m\u001b[37m━\u001b[0m \u001b[1m0s\u001b[0m 20ms/step - accuracy: 0.6221 - loss: 1.0903\n",
      "Epoch 13: val_accuracy did not improve from 0.69510\n",
      "\u001b[1m782/782\u001b[0m \u001b[32m━━━━━━━━━━━━━━━━━━━━\u001b[0m\u001b[37m\u001b[0m \u001b[1m16s\u001b[0m 21ms/step - accuracy: 0.6221 - loss: 1.0903 - val_accuracy: 0.6411 - val_loss: 1.0219\n",
      "Epoch 14/50\n",
      "\u001b[1m780/782\u001b[0m \u001b[32m━━━━━━━━━━━━━━━━━━━\u001b[0m\u001b[37m━\u001b[0m \u001b[1m0s\u001b[0m 20ms/step - accuracy: 0.6244 - loss: 1.0877\n",
      "Epoch 14: val_accuracy did not improve from 0.69510\n",
      "\u001b[1m782/782\u001b[0m \u001b[32m━━━━━━━━━━━━━━━━━━━━\u001b[0m\u001b[37m\u001b[0m \u001b[1m16s\u001b[0m 21ms/step - accuracy: 0.6244 - loss: 1.0877 - val_accuracy: 0.6334 - val_loss: 1.0267\n",
      "Epoch 15/50\n",
      "\u001b[1m782/782\u001b[0m \u001b[32m━━━━━━━━━━━━━━━━━━━━\u001b[0m\u001b[37m\u001b[0m \u001b[1m0s\u001b[0m 20ms/step - accuracy: 0.6245 - loss: 1.0815\n",
      "Epoch 15: val_accuracy did not improve from 0.69510\n",
      "\u001b[1m782/782\u001b[0m \u001b[32m━━━━━━━━━━━━━━━━━━━━\u001b[0m\u001b[37m\u001b[0m \u001b[1m16s\u001b[0m 21ms/step - accuracy: 0.6246 - loss: 1.0815 - val_accuracy: 0.6589 - val_loss: 0.9534\n",
      "Epoch 15: early stopping\n",
      "Restoring model weights from the end of the best epoch: 10.\n"
     ]
    },
    {
     "data": {
      "text/plain": [
       "<keras.src.callbacks.history.History at 0x280b5075ee0>"
      ]
     },
     "execution_count": 25,
     "metadata": {},
     "output_type": "execute_result"
    }
   ],
   "source": [
    "# Train the model using the augmented data\n",
    "model.fit(\n",
    "    datagen.flow(train_images, train_labels, batch_size=64),\n",
    "    epochs=50,\n",
    "    validation_data=(test_images, test_labels),\n",
    "    callbacks=[checkpoint_callback, early_stopping_callback]\n",
    ")"
   ]
  },
  {
   "cell_type": "code",
   "execution_count": 26,
   "id": "7e2ea212-0ac4-4283-bb6b-17a3717fd221",
   "metadata": {},
   "outputs": [],
   "source": [
    "#the model has been trained, it stopped early at epoch 41/50"
   ]
  },
  {
   "cell_type": "code",
   "execution_count": 27,
   "id": "ff22b949-ee15-4efa-90f7-47e6ef42f553",
   "metadata": {},
   "outputs": [],
   "source": [
    "#model evaluation"
   ]
  },
  {
   "cell_type": "code",
   "execution_count": 28,
   "id": "0325bf6c-6614-4ef8-8434-b49a6ef76391",
   "metadata": {},
   "outputs": [],
   "source": [
    "#since we used ModelCheckpoint, it saved the best model\n",
    "#loading in that best saved model\n",
    "model = load_model('best_model.keras')"
   ]
  },
  {
   "cell_type": "code",
   "execution_count": 29,
   "id": "c0f7bd6d-107f-4e3f-b56b-2c6fcb922fea",
   "metadata": {},
   "outputs": [],
   "source": [
    "#model evaluation"
   ]
  },
  {
   "cell_type": "code",
   "execution_count": 30,
   "id": "a9dd77a3-0b94-4e8f-afee-a337d995c7dd",
   "metadata": {},
   "outputs": [
    {
     "name": "stdout",
     "output_type": "stream",
     "text": [
      "313/313 - 1s - 2ms/step - accuracy: 0.6951 - loss: 0.8705\n",
      "Test Loss: 0.8704633712768555\n",
      "Test Accuracy: 0.6951000094413757\n"
     ]
    }
   ],
   "source": [
    "# Evaluate the model on the test dataset\n",
    "test_loss, test_accuracy = model.evaluate(test_images, test_labels, verbose=2)\n",
    "print(f\"Test Loss: {test_loss}\")\n",
    "print(f\"Test Accuracy: {test_accuracy}\")"
   ]
  },
  {
   "cell_type": "code",
   "execution_count": 31,
   "id": "ef52e0d4-4dff-4653-83f2-29bee90582b8",
   "metadata": {},
   "outputs": [],
   "source": [
    "#the model accuracy seems good"
   ]
  },
  {
   "cell_type": "code",
   "execution_count": 32,
   "id": "c6617fb3-6c73-4c3f-9ee4-fbd2a53d94c8",
   "metadata": {},
   "outputs": [
    {
     "name": "stdout",
     "output_type": "stream",
     "text": [
      "\u001b[1m313/313\u001b[0m \u001b[32m━━━━━━━━━━━━━━━━━━━━\u001b[0m\u001b[37m\u001b[0m \u001b[1m1s\u001b[0m 2ms/step\n"
     ]
    }
   ],
   "source": [
    "# Generate predictions for the test dataset\n",
    "predictions = model.predict(test_images)"
   ]
  },
  {
   "cell_type": "code",
   "execution_count": 33,
   "id": "4228e40c-52ab-426b-9258-521380d6ac84",
   "metadata": {},
   "outputs": [],
   "source": [
    "# Convert predictions to class labels\n",
    "predicted_labels = np.argmax(predictions, axis=1)\n",
    "true_labels = np.argmax(test_labels, axis=1)\n",
    "# Define CIFAR-10 class names\n",
    "class_names = [\n",
    "    \"Airplane\", \"Automobile\", \"Bird\", \"Cat\", \"Deer\",\n",
    "    \"Dog\", \"Frog\", \"Horse\", \"Ship\", \"Truck\"\n",
    "]"
   ]
  },
  {
   "cell_type": "code",
   "execution_count": 34,
   "id": "8d3005ab-5e4f-4e8e-9304-7a3553aa0823",
   "metadata": {},
   "outputs": [
    {
     "name": "stdout",
     "output_type": "stream",
     "text": [
      "Classification Report:\n",
      "               precision    recall  f1-score   support\n",
      "\n",
      "    Airplane       0.67      0.79      0.73      1000\n",
      "  Automobile       0.87      0.82      0.85      1000\n",
      "        Bird       0.62      0.52      0.57      1000\n",
      "         Cat       0.56      0.41      0.47      1000\n",
      "        Deer       0.69      0.57      0.62      1000\n",
      "         Dog       0.59      0.62      0.61      1000\n",
      "        Frog       0.70      0.81      0.75      1000\n",
      "       Horse       0.64      0.81      0.71      1000\n",
      "        Ship       0.82      0.76      0.79      1000\n",
      "       Truck       0.77      0.83      0.80      1000\n",
      "\n",
      "    accuracy                           0.70     10000\n",
      "   macro avg       0.69      0.70      0.69     10000\n",
      "weighted avg       0.69      0.70      0.69     10000\n",
      "\n"
     ]
    }
   ],
   "source": [
    "# Print classification report\n",
    "report = classification_report(true_labels, predicted_labels, target_names=class_names)\n",
    "print(\"Classification Report:\\n\", report)"
   ]
  },
  {
   "cell_type": "code",
   "execution_count": 35,
   "id": "86205827-0f41-4b0c-8d66-802c5afe07a9",
   "metadata": {},
   "outputs": [
    {
     "data": {
      "text/plain": [
       "(array([0, 1, 2, 3, 4, 5, 6, 7, 8, 9]),\n",
       " [Text(0, 0, 'Airplane'),\n",
       "  Text(1, 0, 'Automobile'),\n",
       "  Text(2, 0, 'Bird'),\n",
       "  Text(3, 0, 'Cat'),\n",
       "  Text(4, 0, 'Deer'),\n",
       "  Text(5, 0, 'Dog'),\n",
       "  Text(6, 0, 'Frog'),\n",
       "  Text(7, 0, 'Horse'),\n",
       "  Text(8, 0, 'Ship'),\n",
       "  Text(9, 0, 'Truck')])"
      ]
     },
     "execution_count": 35,
     "metadata": {},
     "output_type": "execute_result"
    },
    {
     "data": {
      "image/png": "[encoded data removed]",
      "text/plain": [
       "<Figure size 640x480 with 2 Axes>"
      ]
     },
     "metadata": {},
     "output_type": "display_data"
    }
   ],
   "source": [
    "# Plot confusion matrix\n",
    "cm = confusion_matrix(true_labels, predicted_labels)\n",
    "disp = ConfusionMatrixDisplay(confusion_matrix=cm, display_labels=class_names)\n",
    "disp.plot(cmap=plt.cm.Blues)\n",
    "plt.title(\"Confusion Matrix\")\n",
    "plt.xticks(rotation=45)"
   ]
  },
  {
   "cell_type": "code",
   "execution_count": 36,
   "id": "44478211-5d14-42de-aa98-a41fb2f427b7",
   "metadata": {},
   "outputs": [],
   "source": [
    "#the matrix is diagonally hot,which is good."
   ]
  },
  {
   "cell_type": "code",
   "execution_count": null,
   "id": "899685bd-04e3-48df-bf91-3a77872e01dd",
   "metadata": {},
   "outputs": [],
   "source": []
  }
 ],
 "metadata": {
  "kernelspec": {
   "display_name": "Python 3 (ipykernel)",
   "language": "python",
   "name": "python3"
  },
  "language_info": {
   "codemirror_mode": {
    "name": "ipython",
    "version": 3
   },
   "file_extension": ".py",
   "mimetype": "text/x-python",
   "name": "python",
   "nbconvert_exporter": "python",
   "pygments_lexer": "ipython3",
   "version": "3.12.4"
  }
 },
 "nbformat": 4,
 "nbformat_minor": 5
}
