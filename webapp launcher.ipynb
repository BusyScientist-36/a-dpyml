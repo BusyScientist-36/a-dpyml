{
 "cells": [
  {
   "cell_type": "code",
   "execution_count": 1,
   "id": "2f772376-8eac-4456-9046-c490953939b0",
   "metadata": {},
   "outputs": [
    {
     "name": "stderr",
     "output_type": "stream",
     "text": [
      "<>:4: SyntaxWarning: invalid escape sequence '\\s'\n",
      "<>:4: SyntaxWarning: invalid escape sequence '\\s'\n",
      "C:\\Users\\engrm\\AppData\\Local\\Temp\\ipykernel_17304\\1041892436.py:4: SyntaxWarning: invalid escape sequence '\\s'\n",
      "  os.system('start cmd /k \"streamlit run D:\\sdf.py')\n"
     ]
    },
    {
     "data": {
      "text/plain": [
       "0"
      ]
     },
     "execution_count": 1,
     "metadata": {},
     "output_type": "execute_result"
    }
   ],
   "source": [
    "import os\n",
    "\n",
    "# Run the Streamlit app in the background\n",
    "os.system('start cmd /k \"streamlit run D:\\sdf.py')"
   ]
  },
  {
   "cell_type": "code",
   "execution_count": null,
   "id": "b010e9f4-045d-4421-9c93-2e7e7cf3dd1d",
   "metadata": {},
   "outputs": [],
   "source": []
  }
 ],
 "metadata": {
  "kernelspec": {
   "display_name": "Python 3 (ipykernel)",
   "language": "python",
   "name": "python3"
  },
  "language_info": {
   "codemirror_mode": {
    "name": "ipython",
    "version": 3
   },
   "file_extension": ".py",
   "mimetype": "text/x-python",
   "name": "python",
   "nbconvert_exporter": "python",
   "pygments_lexer": "ipython3",
   "version": "3.12.4"
  }
 },
 "nbformat": 4,
 "nbformat_minor": 5
}
